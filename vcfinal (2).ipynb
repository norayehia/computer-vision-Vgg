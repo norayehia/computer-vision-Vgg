{
  "nbformat": 4,
  "nbformat_minor": 5,
  "metadata": {
    "kernelspec": {
      "display_name": "Python 3 (ipykernel)",
      "language": "python",
      "name": "python3"
    },
    "language_info": {
      "codemirror_mode": {
        "name": "ipython",
        "version": 3
      },
      "file_extension": ".py",
      "mimetype": "text/x-python",
      "name": "python",
      "nbconvert_exporter": "python",
      "pygments_lexer": "ipython3",
      "version": "3.8.11"
    },
    "colab": {
      "name": "vcfinal.ipynb",
      "provenance": [],
      "collapsed_sections": [
        "1a120b0e",
        "310e412c"
      ]
    },
    "accelerator": "TPU"
  },
  "cells": [
    {
      "cell_type": "code",
      "metadata": {
        "id": "bfe34a81"
      },
      "source": [
        "import matplotlib.pyplot as plt\n",
        "import seaborn as sns\n",
        "import keras\n",
        "from keras.models import Sequential\n",
        "from keras.layers import Dense, Conv2D , MaxPool2D , Flatten , Dropout \n",
        "from keras.preprocessing.image import ImageDataGenerator\n",
        "#from keras.optimizers import Adam\n",
        "from sklearn.metrics import classification_report,confusion_matrix\n",
        "import tensorflow as tf\n",
        "import cv2\n",
        "import os\n",
        "import numpy as np\n",
        "import numpy as np\n",
        "import matplotlib.pyplot as plt\n",
        "import os\n",
        "import cv2\n",
        "import skimage\n",
        "from skimage.io import imread\n",
        "from skimage.color import rgb2gray \n",
        "import skimage\n",
        "from skimage import transform\n",
        "from skimage import filters\n",
        "import cv2\n",
        "from matplotlib import pyplot as plt\n",
        "from skimage.io import imread\n",
        "from skimage.color import rgb2gray \n",
        "import skimage\n",
        "import pandas as pd\n",
        "import numpy as np\n",
        "import numpy as np\n",
        "import matplotlib.pyplot as plt\n",
        "import os\n",
        "import cv2\n",
        "import skimage\n",
        "from skimage.io import imread\n",
        "from skimage.color import rgb2gray \n",
        "import skimage\n",
        "from skimage import filters\n",
        "import tensorflow as tf\n",
        "import tensorflow.keras\n",
        "from tensorflow.keras.models import Model\n",
        "from tensorflow.keras.layers import Dense, Flatten, Conv2D, MaxPooling2D\n",
        "# from tensorflow.keras import backend as K\n",
        "from tensorflow.keras.optimizers import Adam\n",
        "\n"
      ],
      "id": "bfe34a81",
      "execution_count": 1,
      "outputs": []
    },
    {
      "cell_type": "code",
      "metadata": {
        "colab": {
          "base_uri": "https://localhost:8080/"
        },
        "id": "pm4GTfdNrHDi",
        "outputId": "52897bd9-c8cf-4cec-d54c-b71e98efba84"
      },
      "source": [
        "\n",
        "from google.colab import drive\n",
        "drive.mount('/content/drive')"
      ],
      "id": "pm4GTfdNrHDi",
      "execution_count": 2,
      "outputs": [
        {
          "output_type": "stream",
          "name": "stdout",
          "text": [
            "Mounted at /content/drive\n"
          ]
        }
      ]
    },
    {
      "cell_type": "code",
      "metadata": {
        "id": "0ead3a44"
      },
      "source": [
        "# To support both python 2 and python 3\n",
        "from __future__ import division, print_function, unicode_literals\n",
        "\n",
        "# Common imports\n",
        "import numpy as np\n",
        "import os\n",
        "\n",
        "# to make this notebook's output stable across runs\n",
        "def reset_graph(seed=42):\n",
        "    tf.reset_default_graph()\n",
        "    tf.set_random_seed(seed)\n",
        "    np.random.seed(seed)\n",
        "\n",
        "# To plot pretty figures\n",
        "%matplotlib inline\n",
        "import matplotlib\n",
        "import matplotlib.pyplot as plt\n",
        "plt.rcParams['axes.labelsize'] = 14\n",
        "plt.rcParams['xtick.labelsize'] = 12\n",
        "plt.rcParams['ytick.labelsize'] = 12\n",
        "\n",
        "# Where to save the figures\n",
        "PROJECT_ROOT_DIR = \".\"\n",
        "NB_ID = \"VGG_MNIST\"\n",
        "\n",
        "# create the directory if it does not exist\n",
        "os.makedirs(os.path.join(PROJECT_ROOT_DIR, \"images\", NB_ID), exist_ok = True)\n",
        "        \n",
        "def save_fig(fig_id, tight_layout=True):\n",
        "    path = os.path.join(PROJECT_ROOT_DIR, \"images\", NB_ID, fig_id + \".png\")\n",
        "    print(\"Saving figure\", fig_id)\n",
        "    if tight_layout:\n",
        "        plt.tight_layout()\n",
        "    plt.savefig(path, format='png', dpi=300)"
      ],
      "id": "0ead3a44",
      "execution_count": 3,
      "outputs": []
    },
    {
      "cell_type": "markdown",
      "metadata": {
        "id": "0df460d4"
      },
      "source": [
        "# For VGG net, we will need colour images of minimum size  32×32  so i made it 64\n",
        "#in assignment no longer"
      ],
      "id": "0df460d4"
    },
    {
      "cell_type": "code",
      "metadata": {
        "id": "0da444b3"
      },
      "source": [
        "labels = ['1', '2','3','4','6']\n",
        "img_size = 64\n",
        "def get_data(data_dir):\n",
        "    data = [] \n",
        "   # 1.1 Getting Started\n",
        "    for label in labels: \n",
        "        path = os.path.join(data_dir, label)\n",
        "        class_num = labels.index(label)\n",
        "        for img in os.listdir(path):\n",
        "            try:\n",
        "                img_arry = imread(os.path.join(path,img))\n",
        "                #img_array=rgb2gray(imread(os.path.join(path,img)))\n",
        "                new_arry = skimage.transform.resize(img_arry, (img_size,img_size))\n",
        "                data.append([new_arry, class_num])\n",
        "            except Exception as e:\n",
        "                print(e)\n",
        "    return np.array(data)"
      ],
      "id": "0da444b3",
      "execution_count": 4,
      "outputs": []
    },
    {
      "cell_type": "code",
      "metadata": {
        "colab": {
          "base_uri": "https://localhost:8080/"
        },
        "id": "d5929006",
        "outputId": "e51fa90c-9b91-4f2b-8956-c1217bbec888"
      },
      "source": [
        "#Now we can easily fetch our train and validation data.\n",
        "train = get_data('/content/drive/MyDrive/assignment3cv/training/training')"
      ],
      "id": "d5929006",
      "execution_count": 5,
      "outputs": [
        {
          "output_type": "stream",
          "name": "stderr",
          "text": [
            "/usr/local/lib/python3.7/dist-packages/ipykernel_launcher.py:17: VisibleDeprecationWarning: Creating an ndarray from ragged nested sequences (which is a list-or-tuple of lists-or-tuples-or ndarrays with different lengths or shapes) is deprecated. If you meant to do this, you must specify 'dtype=object' when creating the ndarray\n"
          ]
        }
      ]
    },
    {
      "cell_type": "code",
      "metadata": {
        "id": "a2f6bb3f"
      },
      "source": [
        "x=[]\n",
        "y=[]\n",
        "for i,j in train:\n",
        "    x.append(i)\n",
        "    y.append(j)"
      ],
      "id": "a2f6bb3f",
      "execution_count": 6,
      "outputs": []
    },
    {
      "cell_type": "code",
      "metadata": {
        "colab": {
          "base_uri": "https://localhost:8080/"
        },
        "id": "80841714",
        "outputId": "214c7685-6179-432f-b32e-afe4c2b845a7"
      },
      "source": [
        "y=np.array(y)\n",
        "y.shape"
      ],
      "id": "80841714",
      "execution_count": 7,
      "outputs": [
        {
          "output_type": "execute_result",
          "data": {
            "text/plain": [
              "(887,)"
            ]
          },
          "metadata": {},
          "execution_count": 7
        }
      ]
    },
    {
      "cell_type": "code",
      "metadata": {
        "colab": {
          "base_uri": "https://localhost:8080/"
        },
        "id": "9cb82af2",
        "outputId": "0f44ba3b-2233-4217-c28d-a9d02634fd8b"
      },
      "source": [
        "x=np.array(x)\n",
        "x.shape"
      ],
      "id": "9cb82af2",
      "execution_count": 8,
      "outputs": [
        {
          "output_type": "execute_result",
          "data": {
            "text/plain": [
              "(887, 64, 64, 3)"
            ]
          },
          "metadata": {},
          "execution_count": 8
        }
      ]
    },
    {
      "cell_type": "code",
      "metadata": {
        "id": "00546da5"
      },
      "source": [
        "\n",
        "from sklearn.model_selection import train_test_split\n",
        "x_train, x_valid, y_train, y_valid = train_test_split(x,y, test_size=0.15, random_state=42)\n",
        "\n"
      ],
      "id": "00546da5",
      "execution_count": 9,
      "outputs": []
    },
    {
      "cell_type": "code",
      "metadata": {
        "colab": {
          "base_uri": "https://localhost:8080/"
        },
        "id": "11947c40",
        "outputId": "2f1813f3-2276-4232-f897-db01ba34fea1"
      },
      "source": [
        "x_train.shape"
      ],
      "id": "11947c40",
      "execution_count": 10,
      "outputs": [
        {
          "output_type": "execute_result",
          "data": {
            "text/plain": [
              "(753, 64, 64, 3)"
            ]
          },
          "metadata": {},
          "execution_count": 10
        }
      ]
    },
    {
      "cell_type": "markdown",
      "metadata": {
        "id": "8f5b4fc3"
      },
      "source": [
        "# model"
      ],
      "id": "8f5b4fc3"
    },
    {
      "cell_type": "markdown",
      "metadata": {
        "id": "56a9a9ac"
      },
      "source": [
        "Import VGG net but without the top fully connected layers. We like to put our own classification layer on top. We will keep VGG net fix and just train our won top layers"
      ],
      "id": "56a9a9ac"
    },
    {
      "cell_type": "code",
      "metadata": {
        "id": "0df28bf8",
        "colab": {
          "base_uri": "https://localhost:8080/"
        },
        "outputId": "459cb20f-6669-4ebf-c17a-6b601557f808"
      },
      "source": [
        "from tensorflow.keras.applications import VGG16\n",
        " \n",
        "vgg_model = VGG16(weights='imagenet',\n",
        "                  include_top=False,\n",
        "                  input_shape=(64, 64, 3))"
      ],
      "id": "0df28bf8",
      "execution_count": 11,
      "outputs": [
        {
          "output_type": "stream",
          "name": "stdout",
          "text": [
            "Downloading data from https://storage.googleapis.com/tensorflow/keras-applications/vgg16/vgg16_weights_tf_dim_ordering_tf_kernels_notop.h5\n",
            "58892288/58889256 [==============================] - 0s 0us/step\n",
            "58900480/58889256 [==============================] - 0s 0us/step\n"
          ]
        }
      ]
    },
    {
      "cell_type": "code",
      "metadata": {
        "colab": {
          "base_uri": "https://localhost:8080/"
        },
        "id": "e2c6fbae",
        "outputId": "237cfb66-3fa8-4a3d-bcc0-22a4cb1c8936"
      },
      "source": [
        "print(vgg_model.summary())"
      ],
      "id": "e2c6fbae",
      "execution_count": 12,
      "outputs": [
        {
          "output_type": "stream",
          "name": "stdout",
          "text": [
            "Model: \"vgg16\"\n",
            "_________________________________________________________________\n",
            "Layer (type)                 Output Shape              Param #   \n",
            "=================================================================\n",
            "input_1 (InputLayer)         [(None, 64, 64, 3)]       0         \n",
            "_________________________________________________________________\n",
            "block1_conv1 (Conv2D)        (None, 64, 64, 64)        1792      \n",
            "_________________________________________________________________\n",
            "block1_conv2 (Conv2D)        (None, 64, 64, 64)        36928     \n",
            "_________________________________________________________________\n",
            "block1_pool (MaxPooling2D)   (None, 32, 32, 64)        0         \n",
            "_________________________________________________________________\n",
            "block2_conv1 (Conv2D)        (None, 32, 32, 128)       73856     \n",
            "_________________________________________________________________\n",
            "block2_conv2 (Conv2D)        (None, 32, 32, 128)       147584    \n",
            "_________________________________________________________________\n",
            "block2_pool (MaxPooling2D)   (None, 16, 16, 128)       0         \n",
            "_________________________________________________________________\n",
            "block3_conv1 (Conv2D)        (None, 16, 16, 256)       295168    \n",
            "_________________________________________________________________\n",
            "block3_conv2 (Conv2D)        (None, 16, 16, 256)       590080    \n",
            "_________________________________________________________________\n",
            "block3_conv3 (Conv2D)        (None, 16, 16, 256)       590080    \n",
            "_________________________________________________________________\n",
            "block3_pool (MaxPooling2D)   (None, 8, 8, 256)         0         \n",
            "_________________________________________________________________\n",
            "block4_conv1 (Conv2D)        (None, 8, 8, 512)         1180160   \n",
            "_________________________________________________________________\n",
            "block4_conv2 (Conv2D)        (None, 8, 8, 512)         2359808   \n",
            "_________________________________________________________________\n",
            "block4_conv3 (Conv2D)        (None, 8, 8, 512)         2359808   \n",
            "_________________________________________________________________\n",
            "block4_pool (MaxPooling2D)   (None, 4, 4, 512)         0         \n",
            "_________________________________________________________________\n",
            "block5_conv1 (Conv2D)        (None, 4, 4, 512)         2359808   \n",
            "_________________________________________________________________\n",
            "block5_conv2 (Conv2D)        (None, 4, 4, 512)         2359808   \n",
            "_________________________________________________________________\n",
            "block5_conv3 (Conv2D)        (None, 4, 4, 512)         2359808   \n",
            "_________________________________________________________________\n",
            "block5_pool (MaxPooling2D)   (None, 2, 2, 512)         0         \n",
            "=================================================================\n",
            "Total params: 14,714,688\n",
            "Trainable params: 14,714,688\n",
            "Non-trainable params: 0\n",
            "_________________________________________________________________\n",
            "None\n"
          ]
        }
      ]
    },
    {
      "cell_type": "code",
      "metadata": {
        "colab": {
          "base_uri": "https://localhost:8080/"
        },
        "id": "d2865588",
        "outputId": "1d3878e8-d2b4-49ec-f610-052a2091e325"
      },
      "source": [
        "#Add new output layer / acces last layer\n",
        "vgg_model.layers[-1]"
      ],
      "id": "d2865588",
      "execution_count": null,
      "outputs": [
        {
          "output_type": "execute_result",
          "data": {
            "text/plain": [
              "<keras.layers.pooling.MaxPooling2D at 0x7f0e4d4b5e90>"
            ]
          },
          "metadata": {},
          "execution_count": 13
        }
      ]
    },
    {
      "cell_type": "markdown",
      "metadata": {
        "id": "7FAu0bS-Y-cz"
      },
      "source": [
        "#3.1 Classification Network\n",
        "\n",
        "As input to the model use images of size no larger\n",
        "than 128×128 so i use 64\n",
        "The last layer from VGG-16 will be block2 pool and you are allowed to add no more than five fully connected so begin from layer 6  to take feature weight from  t to train my model \n",
        "and trainable false to make sure that the model not tunning"
      ],
      "id": "7FAu0bS-Y-cz"
    },
    {
      "cell_type": "code",
      "metadata": {
        "id": "torhg8a5IGN1"
      },
      "source": [
        "from tensorflow.keras.models import Model\n",
        "for layer in vgg_model.layers:\n",
        "    layer.trainable = False\n",
        "\n",
        "# We will have to use the functional API    \n",
        "\n",
        "# last layers output\n",
        "x = vgg_model.layers[6].output\n",
        "# Flatten as before\n",
        "x=Conv2D(128,(3,3),activation='relu',padding='same')(x)\n",
        "\n",
        "x=MaxPooling2D((2,2),strides=(2,2))(x)\n",
        "x = Flatten()(x)\n",
        "x = Dense(256, activation='relu')(x)\n",
        "x = Dense(5, activation='softmax')(x)\n",
        "\n",
        "\n",
        "vgg_model_transfer = Model(inputs=vgg_model.input, outputs=x)"
      ],
      "id": "torhg8a5IGN1",
      "execution_count": 13,
      "outputs": []
    },
    {
      "cell_type": "code",
      "metadata": {
        "colab": {
          "base_uri": "https://localhost:8080/"
        },
        "id": "ac313c11",
        "outputId": "28f88617-1173-486a-8333-30952084b29d"
      },
      "source": [
        "print(vgg_model_transfer.summary())"
      ],
      "id": "ac313c11",
      "execution_count": 14,
      "outputs": [
        {
          "output_type": "stream",
          "name": "stdout",
          "text": [
            "Model: \"model\"\n",
            "_________________________________________________________________\n",
            "Layer (type)                 Output Shape              Param #   \n",
            "=================================================================\n",
            "input_1 (InputLayer)         [(None, 64, 64, 3)]       0         \n",
            "_________________________________________________________________\n",
            "block1_conv1 (Conv2D)        (None, 64, 64, 64)        1792      \n",
            "_________________________________________________________________\n",
            "block1_conv2 (Conv2D)        (None, 64, 64, 64)        36928     \n",
            "_________________________________________________________________\n",
            "block1_pool (MaxPooling2D)   (None, 32, 32, 64)        0         \n",
            "_________________________________________________________________\n",
            "block2_conv1 (Conv2D)        (None, 32, 32, 128)       73856     \n",
            "_________________________________________________________________\n",
            "block2_conv2 (Conv2D)        (None, 32, 32, 128)       147584    \n",
            "_________________________________________________________________\n",
            "block2_pool (MaxPooling2D)   (None, 16, 16, 128)       0         \n",
            "_________________________________________________________________\n",
            "conv2d (Conv2D)              (None, 16, 16, 128)       147584    \n",
            "_________________________________________________________________\n",
            "max_pooling2d (MaxPooling2D) (None, 8, 8, 128)         0         \n",
            "_________________________________________________________________\n",
            "flatten (Flatten)            (None, 8192)              0         \n",
            "_________________________________________________________________\n",
            "dense (Dense)                (None, 256)               2097408   \n",
            "_________________________________________________________________\n",
            "dense_1 (Dense)              (None, 5)                 1285      \n",
            "=================================================================\n",
            "Total params: 2,506,437\n",
            "Trainable params: 2,246,277\n",
            "Non-trainable params: 260,160\n",
            "_________________________________________________________________\n",
            "None\n"
          ]
        }
      ]
    },
    {
      "cell_type": "code",
      "metadata": {
        "id": "517a1584"
      },
      "source": [
        "nClasses = 5\n",
        "# Use Keras' handy utils\n",
        "#binarize the label because vgg deal with binarize\n",
        "y_train_k = tensorflow.keras.utils.to_categorical(y_train, num_classes=nClasses)\n",
        "y_valid_k = tensorflow.keras.utils.to_categorical(y_valid, num_classes=nClasses)"
      ],
      "id": "517a1584",
      "execution_count": 15,
      "outputs": []
    },
    {
      "cell_type": "code",
      "metadata": {
        "colab": {
          "base_uri": "https://localhost:8080/"
        },
        "id": "e1a0ef9a",
        "outputId": "75d0fcb8-963c-40c5-9e4f-250436b860ae"
      },
      "source": [
        "batchSize = 128\n",
        "nEpochs = 32\n",
        "\n",
        "    \n",
        "sgd = tensorflow.keras.optimizers.SGD(lr=0.0008)\n",
        "vgg_model_transfer.compile(loss='categorical_crossentropy', \n",
        "                           optimizer=sgd, \n",
        "                           metrics=['accuracy'])\n",
        "\n",
        "\n",
        "history = vgg_model_transfer.fit(x_train, y_train_k, batch_size=batchSize, epochs=nEpochs, verbose=1, \n",
        "                                 validation_data=(x_valid, y_valid_k))"
      ],
      "id": "e1a0ef9a",
      "execution_count": 16,
      "outputs": [
        {
          "output_type": "stream",
          "name": "stderr",
          "text": [
            "/usr/local/lib/python3.7/dist-packages/keras/optimizer_v2/optimizer_v2.py:356: UserWarning: The `lr` argument is deprecated, use `learning_rate` instead.\n",
            "  \"The `lr` argument is deprecated, use `learning_rate` instead.\")\n"
          ]
        },
        {
          "output_type": "stream",
          "name": "stdout",
          "text": [
            "Epoch 1/32\n",
            "6/6 [==============================] - 16s 3s/step - loss: 26.8936 - accuracy: 0.1899 - val_loss: 2.0685 - val_accuracy: 0.2388\n",
            "Epoch 2/32\n",
            "6/6 [==============================] - 15s 3s/step - loss: 1.9391 - accuracy: 0.2457 - val_loss: 1.8957 - val_accuracy: 0.2463\n",
            "Epoch 3/32\n",
            "6/6 [==============================] - 15s 3s/step - loss: 1.7064 - accuracy: 0.3108 - val_loss: 1.8084 - val_accuracy: 0.3507\n",
            "Epoch 4/32\n",
            "6/6 [==============================] - 15s 3s/step - loss: 1.5477 - accuracy: 0.3652 - val_loss: 1.7805 - val_accuracy: 0.2910\n",
            "Epoch 5/32\n",
            "6/6 [==============================] - 15s 3s/step - loss: 1.4461 - accuracy: 0.3865 - val_loss: 1.7402 - val_accuracy: 0.3209\n",
            "Epoch 6/32\n",
            "6/6 [==============================] - 15s 3s/step - loss: 1.3698 - accuracy: 0.4236 - val_loss: 1.7314 - val_accuracy: 0.3060\n",
            "Epoch 7/32\n",
            "6/6 [==============================] - 15s 3s/step - loss: 1.2838 - accuracy: 0.4635 - val_loss: 1.7631 - val_accuracy: 0.3060\n",
            "Epoch 8/32\n",
            "6/6 [==============================] - 15s 3s/step - loss: 1.2164 - accuracy: 0.4967 - val_loss: 1.7134 - val_accuracy: 0.3284\n",
            "Epoch 9/32\n",
            "6/6 [==============================] - 15s 3s/step - loss: 1.1488 - accuracy: 0.5471 - val_loss: 1.7140 - val_accuracy: 0.3209\n",
            "Epoch 10/32\n",
            "6/6 [==============================] - 15s 3s/step - loss: 1.0901 - accuracy: 0.5803 - val_loss: 1.7190 - val_accuracy: 0.3358\n",
            "Epoch 11/32\n",
            "6/6 [==============================] - 15s 3s/step - loss: 1.0443 - accuracy: 0.6109 - val_loss: 1.7007 - val_accuracy: 0.3358\n",
            "Epoch 12/32\n",
            "6/6 [==============================] - 15s 3s/step - loss: 0.9968 - accuracy: 0.6401 - val_loss: 1.6939 - val_accuracy: 0.3507\n",
            "Epoch 13/32\n",
            "6/6 [==============================] - 15s 3s/step - loss: 0.9697 - accuracy: 0.6467 - val_loss: 1.7212 - val_accuracy: 0.3881\n",
            "Epoch 14/32\n",
            "6/6 [==============================] - 15s 3s/step - loss: 0.9021 - accuracy: 0.7224 - val_loss: 1.7014 - val_accuracy: 0.3657\n",
            "Epoch 15/32\n",
            "6/6 [==============================] - 15s 3s/step - loss: 0.8629 - accuracy: 0.7251 - val_loss: 1.6897 - val_accuracy: 0.3731\n",
            "Epoch 16/32\n",
            "6/6 [==============================] - 15s 3s/step - loss: 0.8238 - accuracy: 0.7570 - val_loss: 1.7287 - val_accuracy: 0.4104\n",
            "Epoch 17/32\n",
            "6/6 [==============================] - 15s 3s/step - loss: 0.8037 - accuracy: 0.7570 - val_loss: 1.7141 - val_accuracy: 0.4254\n",
            "Epoch 18/32\n",
            "6/6 [==============================] - 15s 3s/step - loss: 0.7562 - accuracy: 0.8061 - val_loss: 1.7352 - val_accuracy: 0.3955\n",
            "Epoch 19/32\n",
            "6/6 [==============================] - 15s 3s/step - loss: 0.7269 - accuracy: 0.8074 - val_loss: 1.7198 - val_accuracy: 0.4030\n",
            "Epoch 20/32\n",
            "6/6 [==============================] - 15s 3s/step - loss: 0.7044 - accuracy: 0.8234 - val_loss: 1.7130 - val_accuracy: 0.3731\n",
            "Epoch 21/32\n",
            "6/6 [==============================] - 15s 3s/step - loss: 0.6658 - accuracy: 0.8459 - val_loss: 1.7285 - val_accuracy: 0.3657\n",
            "Epoch 22/32\n",
            "6/6 [==============================] - 15s 3s/step - loss: 0.6402 - accuracy: 0.8499 - val_loss: 1.7093 - val_accuracy: 0.3806\n",
            "Epoch 23/32\n",
            "6/6 [==============================] - 15s 3s/step - loss: 0.6113 - accuracy: 0.8699 - val_loss: 1.7104 - val_accuracy: 0.4179\n",
            "Epoch 24/32\n",
            "6/6 [==============================] - 15s 3s/step - loss: 0.5913 - accuracy: 0.8818 - val_loss: 1.7188 - val_accuracy: 0.3955\n",
            "Epoch 25/32\n",
            "6/6 [==============================] - 15s 3s/step - loss: 0.5682 - accuracy: 0.8884 - val_loss: 1.7101 - val_accuracy: 0.3806\n",
            "Epoch 26/32\n",
            "6/6 [==============================] - 15s 3s/step - loss: 0.5509 - accuracy: 0.9017 - val_loss: 1.7243 - val_accuracy: 0.3881\n",
            "Epoch 27/32\n",
            "6/6 [==============================] - 15s 3s/step - loss: 0.5208 - accuracy: 0.9084 - val_loss: 1.7111 - val_accuracy: 0.4179\n",
            "Epoch 28/32\n",
            "6/6 [==============================] - 15s 3s/step - loss: 0.5024 - accuracy: 0.9137 - val_loss: 1.7584 - val_accuracy: 0.3731\n",
            "Epoch 29/32\n",
            "6/6 [==============================] - 15s 3s/step - loss: 0.4832 - accuracy: 0.9323 - val_loss: 1.7111 - val_accuracy: 0.4254\n",
            "Epoch 30/32\n",
            "6/6 [==============================] - 15s 3s/step - loss: 0.4670 - accuracy: 0.9349 - val_loss: 1.7493 - val_accuracy: 0.3806\n",
            "Epoch 31/32\n",
            "6/6 [==============================] - 15s 3s/step - loss: 0.4452 - accuracy: 0.9588 - val_loss: 1.7426 - val_accuracy: 0.4104\n",
            "Epoch 32/32\n",
            "6/6 [==============================] - 15s 3s/step - loss: 0.4289 - accuracy: 0.9548 - val_loss: 1.7478 - val_accuracy: 0.3955\n"
          ]
        }
      ]
    },
    {
      "cell_type": "code",
      "metadata": {
        "colab": {
          "base_uri": "https://localhost:8080/"
        },
        "id": "JITxLU_XdapK",
        "outputId": "0dbf0f18-eac5-46d6-a3fe-e4244e3f32ac"
      },
      "source": [
        "vgg_model_transfer.save(\"/content/drive/MyDrive/assignment3cv/assincv32model3.1\")"
      ],
      "id": "JITxLU_XdapK",
      "execution_count": 17,
      "outputs": [
        {
          "output_type": "stream",
          "name": "stdout",
          "text": [
            "INFO:tensorflow:Assets written to: /content/drive/MyDrive/assignment3cv/assincv32model3.1/assets\n"
          ]
        }
      ]
    },
    {
      "cell_type": "markdown",
      "metadata": {
        "id": "3e4429b1"
      },
      "source": [
        "# Print your learning curves for training  and validation."
      ],
      "id": "3e4429b1"
    },
    {
      "cell_type": "code",
      "metadata": {
        "colab": {
          "base_uri": "https://localhost:8080/",
          "height": 302
        },
        "id": "22c0e608",
        "outputId": "4db9b5a4-ed6b-4b67-96d9-08f3bffbaacb"
      },
      "source": [
        "# dictionary keys seems to have changed in version 2\n",
        "k = ''\n",
        "if 'accuracy' in history.history :\n",
        "    k = 'accuracy'    \n",
        "\n",
        "if 'acc' in history.history :\n",
        "    k = 'acc'\n",
        "    \n",
        "if k != '' :    \n",
        "    plt.plot(history.history[k])\n",
        "    plt.plot(history.history['val_'+k])\n",
        "    plt.title('Model Accuracy')\n",
        "    plt.ylabel('Accuracy')\n",
        "    plt.xlabel('Epoch')\n",
        "    plt.legend(['train', 'valid'], loc='upper left')\n",
        "    plt.show()"
      ],
      "id": "22c0e608",
      "execution_count": 18,
      "outputs": [
        {
          "output_type": "display_data",
          "data": {
            "image/png": "[encoded data removed]",
            "text/plain": [
              "<Figure size 432x288 with 1 Axes>"
            ]
          },
          "metadata": {
            "needs_background": "light"
          }
        }
      ]
    },
    {
      "cell_type": "code",
      "metadata": {
        "colab": {
          "base_uri": "https://localhost:8080/",
          "height": 302
        },
        "id": "1b6c1c8e",
        "outputId": "c76d25e3-f611-4711-9f4c-a177ac4be080"
      },
      "source": [
        "plt.plot(history.history['loss'])\n",
        "plt.plot(history.history['val_loss'])\n",
        "plt.title('Model loss')\n",
        "plt.ylabel('Loss')\n",
        "plt.xlabel('Epoch')\n",
        "plt.legend(['train', 'valid'], loc='upper left')\n",
        "plt.show()"
      ],
      "id": "1b6c1c8e",
      "execution_count": 19,
      "outputs": [
        {
          "output_type": "display_data",
          "data": {
            "image/png": "[encoded data removed]",
            "text/plain": [
              "<Figure size 432x288 with 1 Axes>"
            ]
          },
          "metadata": {
            "needs_background": "light"
          }
        }
      ]
    },
    {
      "cell_type": "markdown",
      "metadata": {
        "id": "63cf59e0"
      },
      "source": [
        "# test"
      ],
      "id": "63cf59e0"
    },
    {
      "cell_type": "code",
      "metadata": {
        "colab": {
          "base_uri": "https://localhost:8080/"
        },
        "id": "0b8fc33a",
        "outputId": "3d2b234b-470a-41a6-e8ce-7b5cd76d6faf"
      },
      "source": [
        "test= get_data('/content/drive/MyDrive/assignment3cv/testing/testing')\n"
      ],
      "id": "0b8fc33a",
      "execution_count": 20,
      "outputs": [
        {
          "output_type": "stream",
          "name": "stderr",
          "text": [
            "/usr/local/lib/python3.7/dist-packages/ipykernel_launcher.py:17: VisibleDeprecationWarning: Creating an ndarray from ragged nested sequences (which is a list-or-tuple of lists-or-tuples-or ndarrays with different lengths or shapes) is deprecated. If you meant to do this, you must specify 'dtype=object' when creating the ndarray\n"
          ]
        }
      ]
    },
    {
      "cell_type": "markdown",
      "metadata": {
        "id": "66b43ea8"
      },
      "source": [
        "#xtrain,xtestلازم نقس الshape\n",
        "الي داخل للمودل"
      ],
      "id": "66b43ea8"
    },
    {
      "cell_type": "code",
      "metadata": {
        "id": "d4840697"
      },
      "source": [
        "x_test=[]\n",
        "y_test=[]\n",
        "for i,j in test:\n",
        "    x_test.append(i)\n",
        "    y_test.append(j)"
      ],
      "id": "d4840697",
      "execution_count": 21,
      "outputs": []
    },
    {
      "cell_type": "code",
      "metadata": {
        "id": "72da825f"
      },
      "source": [
        "x_test=np.array(x_test)\n",
        "y_test=np.array(y_test)"
      ],
      "id": "72da825f",
      "execution_count": 22,
      "outputs": []
    },
    {
      "cell_type": "markdown",
      "metadata": {
        "id": "db8a1684"
      },
      "source": [
        "# Give the confusion matrix of your network on the training including validation and testing data sets"
      ],
      "id": "db8a1684"
    },
    {
      "cell_type": "code",
      "metadata": {
        "id": "b9a76d34"
      },
      "source": [
        "y_predict_prob = vgg_model_transfer.predict(x_test)\n",
        "y_predict = y_predict_prob.argmax(axis=-1)"
      ],
      "id": "b9a76d34",
      "execution_count": 23,
      "outputs": []
    },
    {
      "cell_type": "code",
      "metadata": {
        "id": "07bb3401"
      },
      "source": [
        "y_predict = y_predict_prob.argmax(axis=-1)"
      ],
      "id": "07bb3401",
      "execution_count": 24,
      "outputs": []
    },
    {
      "cell_type": "code",
      "metadata": {
        "colab": {
          "base_uri": "https://localhost:8080/"
        },
        "id": "9b746715",
        "outputId": "b8e3698b-d654-40c3-9004-e7dd160c519d"
      },
      "source": [
        "from sklearn.metrics import confusion_matrix\n",
        "\n",
        "conf_mx = confusion_matrix(y_test, y_predict)\n",
        "print('Confusion matrix: \\n{0}'.format(conf_mx))"
      ],
      "id": "9b746715",
      "execution_count": 25,
      "outputs": [
        {
          "output_type": "stream",
          "name": "stdout",
          "text": [
            "Confusion matrix: \n",
            "[[ 9  7  0  2  2]\n",
            " [ 5  8  5  1  1]\n",
            " [ 2  1  9  5  3]\n",
            " [ 0  3  5  4  8]\n",
            " [ 0  2  5  2 11]]\n"
          ]
        }
      ]
    },
    {
      "cell_type": "code",
      "metadata": {
        "id": "185d80c4"
      },
      "source": [
        "def plot_confusion_matrix(matrix):\n",
        "    \"\"\"If you prefer color and a colorbar\"\"\"\n",
        "    fig = plt.figure(figsize=(8,8))\n",
        "    ax = fig.add_subplot(111)\n",
        "    cax = ax.matshow(matrix)\n",
        "    fig.colorbar(cax)"
      ],
      "id": "185d80c4",
      "execution_count": 26,
      "outputs": []
    },
    {
      "cell_type": "code",
      "metadata": {
        "colab": {
          "base_uri": "https://localhost:8080/",
          "height": 496
        },
        "id": "a9b3b973",
        "outputId": "0c9a622a-6e2f-4885-fb6f-168f9553dd17"
      },
      "source": [
        "row_sums = conf_mx.sum(axis=1, keepdims=True)\n",
        "norm_conf_mx = conf_mx / row_sums\n",
        "np.fill_diagonal(norm_conf_mx, 0)\n",
        "# plt.matshow(norm_conf_mx, cmap=plt.cm.gray)\n",
        "plot_confusion_matrix(norm_conf_mx)\n",
        "save_fig(\"VGGtransfer_confusion_matrix_errors\", tight_layout=False)\n",
        "plt.show()"
      ],
      "id": "a9b3b973",
      "execution_count": 27,
      "outputs": [
        {
          "output_type": "stream",
          "name": "stdout",
          "text": [
            "Saving figure VGGtransfer_confusion_matrix_errors\n"
          ]
        },
        {
          "output_type": "display_data",
          "data": {
            "image/png": "[encoded data removed]",
            "text/plain": [
              "<Figure size 576x576 with 2 Axes>"
            ]
          },
          "metadata": {
            "needs_background": "light"
          }
        }
      ]
    },
    {
      "cell_type": "code",
      "metadata": {
        "colab": {
          "base_uri": "https://localhost:8080/"
        },
        "id": "Y2mAoQYshFbN",
        "outputId": "42cb3b1c-bae4-4f5e-8763-3852d21f2725"
      },
      "source": [
        "from sklearn.metrics import classification_report\n",
        "target_names = ['class 1', 'class 2', 'class 3','class 4','class 6']\n",
        "print(classification_report(y_test, y_predict, target_names=target_names))"
      ],
      "id": "Y2mAoQYshFbN",
      "execution_count": 28,
      "outputs": [
        {
          "output_type": "stream",
          "name": "stdout",
          "text": [
            "              precision    recall  f1-score   support\n",
            "\n",
            "     class 1       0.56      0.45      0.50        20\n",
            "     class 2       0.38      0.40      0.39        20\n",
            "     class 3       0.38      0.45      0.41        20\n",
            "     class 4       0.29      0.20      0.24        20\n",
            "     class 6       0.44      0.55      0.49        20\n",
            "\n",
            "    accuracy                           0.41       100\n",
            "   macro avg       0.41      0.41      0.40       100\n",
            "weighted avg       0.41      0.41      0.40       100\n",
            "\n"
          ]
        }
      ]
    },
    {
      "cell_type": "markdown",
      "metadata": {
        "id": "fuUxSmEQFpvt"
      },
      "source": [
        "model less overfit give .41 on test data"
      ],
      "id": "fuUxSmEQFpvt"
    },
    {
      "cell_type": "markdown",
      "metadata": {
        "id": "Vi3bh7GJe-cF"
      },
      "source": [
        "#predict on train"
      ],
      "id": "Vi3bh7GJe-cF"
    },
    {
      "cell_type": "code",
      "metadata": {
        "id": "uCnLHj2Je9iy"
      },
      "source": [
        "y_predictrain_prob = vgg_model_transfer.predict(x_train)"
      ],
      "id": "uCnLHj2Je9iy",
      "execution_count": 29,
      "outputs": []
    },
    {
      "cell_type": "code",
      "metadata": {
        "id": "q_Ud6WhDfDy9"
      },
      "source": [
        "y_predicttrain = y_predictrain_prob .argmax(axis=-1)"
      ],
      "id": "q_Ud6WhDfDy9",
      "execution_count": 30,
      "outputs": []
    },
    {
      "cell_type": "code",
      "metadata": {
        "colab": {
          "base_uri": "https://localhost:8080/"
        },
        "id": "kdvgJhS-fD-Z",
        "outputId": "f7018967-64df-4deb-c856-44c5ebe6fe4d"
      },
      "source": [
        "from sklearn.metrics import confusion_matrix\n",
        "\n",
        "conf_mx = confusion_matrix(y_train, y_predicttrain)\n",
        "print('Confusion matrix: \\n{0}'.format(conf_mx))"
      ],
      "id": "kdvgJhS-fD-Z",
      "execution_count": 31,
      "outputs": [
        {
          "output_type": "stream",
          "name": "stdout",
          "text": [
            "Confusion matrix: \n",
            "[[153   4   1   0   1]\n",
            " [  2 139   2   0   1]\n",
            " [  0   3 152   0   2]\n",
            " [  0   2   5 137   3]\n",
            " [  0   1   2   1 142]]\n"
          ]
        }
      ]
    },
    {
      "cell_type": "code",
      "metadata": {
        "colab": {
          "base_uri": "https://localhost:8080/"
        },
        "id": "0Jb7d4Lyr0WK",
        "outputId": "870c35f5-bd15-4b4b-c29d-0b28f6d1983e"
      },
      "source": [
        "from sklearn.metrics import classification_report\n",
        "target_names = ['class 1', 'class 2', 'class 3','class 4','class 6']\n",
        "print(classification_report(y_train, y_predicttrain))"
      ],
      "id": "0Jb7d4Lyr0WK",
      "execution_count": 32,
      "outputs": [
        {
          "output_type": "stream",
          "name": "stdout",
          "text": [
            "              precision    recall  f1-score   support\n",
            "\n",
            "           0       0.99      0.96      0.97       159\n",
            "           1       0.93      0.97      0.95       144\n",
            "           2       0.94      0.97      0.95       157\n",
            "           3       0.99      0.93      0.96       147\n",
            "           4       0.95      0.97      0.96       146\n",
            "\n",
            "    accuracy                           0.96       753\n",
            "   macro avg       0.96      0.96      0.96       753\n",
            "weighted avg       0.96      0.96      0.96       753\n",
            "\n"
          ]
        }
      ]
    },
    {
      "cell_type": "code",
      "metadata": {
        "id": "Tog8Tfm3tEI6"
      },
      "source": [
        "y_predictvalid_prob = vgg_model_transfer.predict(x_valid)\n",
        "y_predictvalid = y_predictvalid_prob .argmax(axis=-1)"
      ],
      "id": "Tog8Tfm3tEI6",
      "execution_count": 33,
      "outputs": []
    },
    {
      "cell_type": "code",
      "metadata": {
        "colab": {
          "base_uri": "https://localhost:8080/"
        },
        "id": "-37XowEQtFOn",
        "outputId": "e4ad2cbf-547e-4e5c-d426-32adfdab21f0"
      },
      "source": [
        "from sklearn.metrics import classification_report\n",
        "target_names = ['class 1', 'class 2', 'class 3','class 4','class 6']\n",
        "print(classification_report(y_valid, y_predictvalid))"
      ],
      "id": "-37XowEQtFOn",
      "execution_count": 34,
      "outputs": [
        {
          "output_type": "stream",
          "name": "stdout",
          "text": [
            "              precision    recall  f1-score   support\n",
            "\n",
            "           0       0.67      0.57      0.62        21\n",
            "           1       0.42      0.36      0.39        36\n",
            "           2       0.22      0.30      0.25        23\n",
            "           3       0.26      0.20      0.23        30\n",
            "           4       0.50      0.62      0.56        24\n",
            "\n",
            "    accuracy                           0.40       134\n",
            "   macro avg       0.41      0.41      0.41       134\n",
            "weighted avg       0.40      0.40      0.39       134\n",
            "\n"
          ]
        }
      ]
    },
    {
      "cell_type": "markdown",
      "metadata": {
        "id": "Exq53TKgsJeY"
      },
      "source": [
        "Model give 96 on train  epochs  show that the model overfit  because it give .41 on test  and .40 on valid \n",
        "and loss from .4 to 1.7 "
      ],
      "id": "Exq53TKgsJeY"
    },
    {
      "cell_type": "markdown",
      "metadata": {
        "id": "11e2290c"
      },
      "source": [
        "# 3.2 Basic Transfer Learning: Regression Network\n",
        "the same network but use 1 in the last layer instead of 5 because it regression problem  use leaky relu Leaky ReLU is a type of activation function which comes across many machine learning blogs every now and then. It is suggested that it is an improvement of traditional ReLU and that it should be used more often.\n",
        "\n"
      ],
      "id": "11e2290c"
    },
    {
      "cell_type": "code",
      "metadata": {
        "id": "Pg-LuACpHkke"
      },
      "source": [
        "for layer in vgg_model.layers:\n",
        "    layer.trainable = False\n",
        "\n",
        "# We will have to use the functional API    \n",
        "\n",
        "# last layers output\n",
        "x = vgg_model.layers[6].output\n",
        "# Flatten as before\n",
        "x=Conv2D(128,(3,3),activation='relu',padding='same')(x)\n",
        "x=MaxPooling2D((2,2),strides=(2,2))(x)\n",
        "x = Flatten()(x)\n",
        "x = Dense(256, activation='relu')(x)\n",
        "x = Dense(64, activation='relu')(x)\n",
        "x = Dense(1, activation=keras.layers.LeakyReLU(alpha=0.3))(x)\n",
        "\n",
        "from tensorflow.keras.models import Model\n",
        "vgg_model_transfer2 = Model(inputs=vgg_model.input, outputs=x)"
      ],
      "id": "Pg-LuACpHkke",
      "execution_count": 35,
      "outputs": []
    },
    {
      "cell_type": "code",
      "metadata": {
        "id": "709aa9e8",
        "colab": {
          "base_uri": "https://localhost:8080/"
        },
        "outputId": "55c067fa-317b-4f56-806d-8adc77152d78"
      },
      "source": [
        "batchSize = 128\n",
        "nEpochs = 32\n",
        "\n",
        "    \n",
        "sgd = tensorflow.keras.optimizers.SGD(lr=0.0008)\n",
        "#vgg_model_transfer.compile(loss='categorical_crossentropy', optimizer=sgd, metrics=['accuracy'])\n",
        "vgg_model_transfer2.compile(\n",
        "    optimizer='adam',\n",
        "    loss='mse',\n",
        "    metrics=[tf.keras.metrics.MeanSquaredError()])\n",
        "\n"
      ],
      "id": "709aa9e8",
      "execution_count": 36,
      "outputs": [
        {
          "output_type": "stream",
          "name": "stderr",
          "text": [
            "/usr/local/lib/python3.7/dist-packages/keras/optimizer_v2/optimizer_v2.py:356: UserWarning: The `lr` argument is deprecated, use `learning_rate` instead.\n",
            "  \"The `lr` argument is deprecated, use `learning_rate` instead.\")\n"
          ]
        }
      ]
    },
    {
      "cell_type": "code",
      "metadata": {
        "colab": {
          "base_uri": "https://localhost:8080/"
        },
        "id": "Qw_6elkaKg2e",
        "outputId": "51261267-b82c-4c3f-e802-52d41e71ad62"
      },
      "source": [
        "print(vgg_model_transfer2.summary())"
      ],
      "id": "Qw_6elkaKg2e",
      "execution_count": 37,
      "outputs": [
        {
          "output_type": "stream",
          "name": "stdout",
          "text": [
            "Model: \"model_1\"\n",
            "_________________________________________________________________\n",
            "Layer (type)                 Output Shape              Param #   \n",
            "=================================================================\n",
            "input_1 (InputLayer)         [(None, 64, 64, 3)]       0         \n",
            "_________________________________________________________________\n",
            "block1_conv1 (Conv2D)        (None, 64, 64, 64)        1792      \n",
            "_________________________________________________________________\n",
            "block1_conv2 (Conv2D)        (None, 64, 64, 64)        36928     \n",
            "_________________________________________________________________\n",
            "block1_pool (MaxPooling2D)   (None, 32, 32, 64)        0         \n",
            "_________________________________________________________________\n",
            "block2_conv1 (Conv2D)        (None, 32, 32, 128)       73856     \n",
            "_________________________________________________________________\n",
            "block2_conv2 (Conv2D)        (None, 32, 32, 128)       147584    \n",
            "_________________________________________________________________\n",
            "block2_pool (MaxPooling2D)   (None, 16, 16, 128)       0         \n",
            "_________________________________________________________________\n",
            "conv2d_1 (Conv2D)            (None, 16, 16, 128)       147584    \n",
            "_________________________________________________________________\n",
            "max_pooling2d_1 (MaxPooling2 (None, 8, 8, 128)         0         \n",
            "_________________________________________________________________\n",
            "flatten_1 (Flatten)          (None, 8192)              0         \n",
            "_________________________________________________________________\n",
            "dense_2 (Dense)              (None, 256)               2097408   \n",
            "_________________________________________________________________\n",
            "dense_3 (Dense)              (None, 64)                16448     \n",
            "_________________________________________________________________\n",
            "dense_4 (Dense)              (None, 1)                 65        \n",
            "=================================================================\n",
            "Total params: 2,521,665\n",
            "Trainable params: 2,261,505\n",
            "Non-trainable params: 260,160\n",
            "_________________________________________________________________\n",
            "None\n"
          ]
        }
      ]
    },
    {
      "cell_type": "code",
      "metadata": {
        "colab": {
          "base_uri": "https://localhost:8080/"
        },
        "id": "lcuLf1uYKM7F",
        "outputId": "986a6445-4220-4fc7-fcc3-08d8c5e869b7"
      },
      "source": [
        "historyregression = vgg_model_transfer2.fit(x_train, y_train, batch_size=batchSize, epochs=nEpochs, verbose=1, \n",
        "                                 validation_data=(x_valid, y_valid))"
      ],
      "id": "lcuLf1uYKM7F",
      "execution_count": 38,
      "outputs": [
        {
          "output_type": "stream",
          "name": "stdout",
          "text": [
            "Epoch 1/32\n",
            "6/6 [==============================] - 16s 3s/step - loss: 10539.8369 - mean_squared_error: 10539.8369 - val_loss: 5.7634 - val_mean_squared_error: 5.7634\n",
            "Epoch 2/32\n",
            "6/6 [==============================] - 15s 3s/step - loss: 4.2545 - mean_squared_error: 4.2545 - val_loss: 3.0322 - val_mean_squared_error: 3.0322\n",
            "Epoch 3/32\n",
            "6/6 [==============================] - 15s 3s/step - loss: 2.9400 - mean_squared_error: 2.9400 - val_loss: 2.8532 - val_mean_squared_error: 2.8532\n",
            "Epoch 4/32\n",
            "6/6 [==============================] - 15s 3s/step - loss: 2.5559 - mean_squared_error: 2.5559 - val_loss: 2.5328 - val_mean_squared_error: 2.5328\n",
            "Epoch 5/32\n",
            "6/6 [==============================] - 15s 3s/step - loss: 2.3906 - mean_squared_error: 2.3906 - val_loss: 2.2410 - val_mean_squared_error: 2.2410\n",
            "Epoch 6/32\n",
            "6/6 [==============================] - 15s 3s/step - loss: 2.2009 - mean_squared_error: 2.2009 - val_loss: 2.0924 - val_mean_squared_error: 2.0924\n",
            "Epoch 7/32\n",
            "6/6 [==============================] - 15s 3s/step - loss: 2.0669 - mean_squared_error: 2.0669 - val_loss: 2.0094 - val_mean_squared_error: 2.0094\n",
            "Epoch 8/32\n",
            "6/6 [==============================] - 15s 3s/step - loss: 1.9097 - mean_squared_error: 1.9097 - val_loss: 1.9320 - val_mean_squared_error: 1.9320\n",
            "Epoch 9/32\n",
            "6/6 [==============================] - 15s 3s/step - loss: 1.7427 - mean_squared_error: 1.7427 - val_loss: 1.8702 - val_mean_squared_error: 1.8702\n",
            "Epoch 10/32\n",
            "6/6 [==============================] - 15s 3s/step - loss: 1.6614 - mean_squared_error: 1.6614 - val_loss: 1.8973 - val_mean_squared_error: 1.8973\n",
            "Epoch 11/32\n",
            "6/6 [==============================] - 15s 3s/step - loss: 1.5823 - mean_squared_error: 1.5823 - val_loss: 2.0741 - val_mean_squared_error: 2.0741\n",
            "Epoch 12/32\n",
            "6/6 [==============================] - 15s 3s/step - loss: 1.5523 - mean_squared_error: 1.5523 - val_loss: 1.7996 - val_mean_squared_error: 1.7996\n",
            "Epoch 13/32\n",
            "6/6 [==============================] - 15s 3s/step - loss: 1.4787 - mean_squared_error: 1.4787 - val_loss: 1.8562 - val_mean_squared_error: 1.8562\n",
            "Epoch 14/32\n",
            "6/6 [==============================] - 15s 3s/step - loss: 1.3437 - mean_squared_error: 1.3437 - val_loss: 1.9184 - val_mean_squared_error: 1.9184\n",
            "Epoch 15/32\n",
            "6/6 [==============================] - 15s 3s/step - loss: 1.2832 - mean_squared_error: 1.2832 - val_loss: 1.8483 - val_mean_squared_error: 1.8483\n",
            "Epoch 16/32\n",
            "6/6 [==============================] - 15s 3s/step - loss: 1.1676 - mean_squared_error: 1.1676 - val_loss: 1.8416 - val_mean_squared_error: 1.8416\n",
            "Epoch 17/32\n",
            "6/6 [==============================] - 15s 3s/step - loss: 1.0994 - mean_squared_error: 1.0994 - val_loss: 1.7998 - val_mean_squared_error: 1.7998\n",
            "Epoch 18/32\n",
            "6/6 [==============================] - 15s 3s/step - loss: 1.0487 - mean_squared_error: 1.0487 - val_loss: 1.8058 - val_mean_squared_error: 1.8058\n",
            "Epoch 19/32\n",
            "6/6 [==============================] - 15s 3s/step - loss: 0.9900 - mean_squared_error: 0.9900 - val_loss: 1.8007 - val_mean_squared_error: 1.8007\n",
            "Epoch 20/32\n",
            "6/6 [==============================] - 16s 3s/step - loss: 0.9332 - mean_squared_error: 0.9332 - val_loss: 1.8796 - val_mean_squared_error: 1.8796\n",
            "Epoch 21/32\n",
            "6/6 [==============================] - 15s 3s/step - loss: 0.9139 - mean_squared_error: 0.9139 - val_loss: 1.8592 - val_mean_squared_error: 1.8592\n",
            "Epoch 22/32\n",
            "6/6 [==============================] - 15s 3s/step - loss: 0.8779 - mean_squared_error: 0.8779 - val_loss: 1.7841 - val_mean_squared_error: 1.7841\n",
            "Epoch 23/32\n",
            "6/6 [==============================] - 15s 3s/step - loss: 0.8740 - mean_squared_error: 0.8740 - val_loss: 1.7640 - val_mean_squared_error: 1.7640\n",
            "Epoch 24/32\n",
            "6/6 [==============================] - 15s 3s/step - loss: 0.7957 - mean_squared_error: 0.7957 - val_loss: 1.8251 - val_mean_squared_error: 1.8251\n",
            "Epoch 25/32\n",
            "6/6 [==============================] - 15s 3s/step - loss: 0.7358 - mean_squared_error: 0.7358 - val_loss: 1.7689 - val_mean_squared_error: 1.7689\n",
            "Epoch 26/32\n",
            "6/6 [==============================] - 15s 3s/step - loss: 0.6975 - mean_squared_error: 0.6975 - val_loss: 1.8471 - val_mean_squared_error: 1.8471\n",
            "Epoch 27/32\n",
            "6/6 [==============================] - 15s 3s/step - loss: 0.6646 - mean_squared_error: 0.6646 - val_loss: 1.8515 - val_mean_squared_error: 1.8515\n",
            "Epoch 28/32\n",
            "6/6 [==============================] - 15s 3s/step - loss: 0.6223 - mean_squared_error: 0.6223 - val_loss: 1.8321 - val_mean_squared_error: 1.8321\n",
            "Epoch 29/32\n",
            "6/6 [==============================] - 15s 3s/step - loss: 0.5856 - mean_squared_error: 0.5856 - val_loss: 1.8931 - val_mean_squared_error: 1.8931\n",
            "Epoch 30/32\n",
            "6/6 [==============================] - 15s 3s/step - loss: 0.5723 - mean_squared_error: 0.5723 - val_loss: 1.8470 - val_mean_squared_error: 1.8470\n",
            "Epoch 31/32\n",
            "6/6 [==============================] - 15s 3s/step - loss: 0.5475 - mean_squared_error: 0.5475 - val_loss: 1.8780 - val_mean_squared_error: 1.8780\n",
            "Epoch 32/32\n",
            "6/6 [==============================] - 15s 3s/step - loss: 0.5281 - mean_squared_error: 0.5281 - val_loss: 1.8468 - val_mean_squared_error: 1.8468\n"
          ]
        }
      ]
    },
    {
      "cell_type": "code",
      "metadata": {
        "id": "fd8ba749",
        "colab": {
          "base_uri": "https://localhost:8080/",
          "height": 665
        },
        "outputId": "414334ac-68c5-4dcf-e11c-3a40edcfe0fd"
      },
      "source": [
        "plt.figure(figsize=(20,10))\n",
        "plt.subplot(1, 2, 1)\n",
        "plt.suptitle('Optimizer : Adam', fontsize=10)\n",
        "plt.ylabel('Loss', fontsize=16)\n",
        "plt.plot(historyregression.history['loss'], label='Training Loss')\n",
        "plt.plot(historyregression.history['val_loss'], label='Validation Loss')\n",
        "plt.legend(loc='upper right')\n",
        "\n",
        "plt.subplot(1, 2, 2)\n",
        "plt.ylabel('mean_squared_error', fontsize=16)\n",
        "plt.plot(historyregression.history['mean_squared_error'], label='mean_squared_error')\n",
        "plt.plot(historyregression.history['val_mean_squared_error'], label='val_mean_squared_error')\n",
        "plt.legend(loc='lower right')\n",
        "plt.show()"
      ],
      "id": "fd8ba749",
      "execution_count": 39,
      "outputs": [
        {
          "output_type": "display_data",
          "data": {
            "image/png": "[encoded data removed]",
            "text/plain": [
              "<Figure size 1440x720 with 2 Axes>"
            ]
          },
          "metadata": {
            "needs_background": "light"
          }
        }
      ]
    },
    {
      "cell_type": "code",
      "metadata": {
        "id": "1KvMEKnXffyV"
      },
      "source": [
        "y_predict_prob2 =vgg_model_transfer2.predict(x_test)\n"
      ],
      "id": "1KvMEKnXffyV",
      "execution_count": 40,
      "outputs": []
    },
    {
      "cell_type": "code",
      "metadata": {
        "id": "Ne6K28QDil4q"
      },
      "source": [
        "#y_predict_prob2"
      ],
      "id": "Ne6K28QDil4q",
      "execution_count": null,
      "outputs": []
    },
    {
      "cell_type": "code",
      "metadata": {
        "colab": {
          "base_uri": "https://localhost:8080/"
        },
        "id": "nd7VG5ZfmHDQ",
        "outputId": "26e83944-1662-43c0-cd7c-9337d74d3095"
      },
      "source": [
        "from sklearn.metrics import mean_absolute_error\n",
        "\n",
        "mean_absolute_error(y_test, y_predict_prob2)"
      ],
      "id": "nd7VG5ZfmHDQ",
      "execution_count": 41,
      "outputs": [
        {
          "output_type": "execute_result",
          "data": {
            "text/plain": [
              "1.0290772293694317"
            ]
          },
          "metadata": {},
          "execution_count": 41
        }
      ]
    },
    {
      "cell_type": "markdown",
      "metadata": {
        "id": "Og9ozwh_aAyy"
      },
      "source": [
        ""
      ],
      "id": "Og9ozwh_aAyy"
    },
    {
      "cell_type": "code",
      "metadata": {
        "id": "smWJnjk4Vzs3"
      },
      "source": [
        "\n",
        "   \"\"\"\n",
        "   buid threshold to make classfication report convert to int  to get classes label loop tobegin from previos then move convert all to int then compare\n",
        "   pred=[]\n",
        "for i  in range(0,len(y_predict_prob2)):\n",
        "\n",
        "   if int( y_predict_prob2[i] )==0 :\n",
        "      labels= 1\n",
        "   elif int(y_predict_prob2[i]) ==1 :\n",
        "      labels= 2\n",
        "   elif int(y_predict_prob2[i]) ==2 :\n",
        "      labels= 3\n",
        "   elif int( y_predict_prob2[i]) ==3 :\n",
        "      labels= 4\n",
        "   else:\n",
        "      labels= 6\n",
        "   pred.append( labels)\n",
        "   \n",
        "   \"\"\""
      ],
      "id": "smWJnjk4Vzs3",
      "execution_count": 42,
      "outputs": []
    },
    {
      "cell_type": "markdown",
      "metadata": {
        "id": "rneiCqWyEPgl"
      },
      "source": [
        "The round() function returns a floating point number that is a rounded version of the specified number, with the specified number of decimals.\n",
        "\n",
        "The default number of decimals is 0, meaning that the function will return the nearest integer.\n",
        "\n"
      ],
      "id": "rneiCqWyEPgl"
    },
    {
      "cell_type": "code",
      "metadata": {
        "id": "RfN2zddX9Tce"
      },
      "source": [
        "y_predict_prob2te =vgg_model_transfer2.predict(x_test)"
      ],
      "id": "RfN2zddX9Tce",
      "execution_count": 141,
      "outputs": []
    },
    {
      "cell_type": "code",
      "metadata": {
        "colab": {
          "base_uri": "https://localhost:8080/"
        },
        "id": "fFkfH5f69YJ2",
        "outputId": "c8c9af8b-1f13-4e8a-9595-aa6b46a4abb5"
      },
      "source": [
        "from sklearn.metrics import classification_report\n",
        "\n",
        "print(classification_report(y_test, np.round(y_predict_prob2te)))"
      ],
      "id": "fFkfH5f69YJ2",
      "execution_count": 142,
      "outputs": [
        {
          "output_type": "stream",
          "name": "stdout",
          "text": [
            "              precision    recall  f1-score   support\n",
            "\n",
            "         0.0       0.40      0.20      0.27        20\n",
            "         1.0       0.22      0.25      0.23        20\n",
            "         2.0       0.24      0.45      0.31        20\n",
            "         3.0       0.45      0.45      0.45        20\n",
            "         4.0       0.50      0.20      0.29        20\n",
            "         5.0       0.00      0.00      0.00         0\n",
            "\n",
            "    accuracy                           0.31       100\n",
            "   macro avg       0.30      0.26      0.26       100\n",
            "weighted avg       0.36      0.31      0.31       100\n",
            "\n"
          ]
        },
        {
          "output_type": "stream",
          "name": "stderr",
          "text": [
            "/usr/local/lib/python3.7/dist-packages/sklearn/metrics/_classification.py:1272: UndefinedMetricWarning: Recall and F-score are ill-defined and being set to 0.0 in labels with no true samples. Use `zero_division` parameter to control this behavior.\n",
            "  _warn_prf(average, modifier, msg_start, len(result))\n"
          ]
        }
      ]
    },
    {
      "cell_type": "code",
      "metadata": {
        "colab": {
          "base_uri": "https://localhost:8080/"
        },
        "id": "b_vl72-eWY2f",
        "outputId": "1422ce31-b007-4cb6-ea9d-a6ada1d0527c"
      },
      "source": [
        "\n",
        "\n",
        "\n",
        "conf_mx2 = confusion_matrix(y_test,  np.round(y_predict_prob2te))\n",
        "print('Confusion matrix: \\n{0}'.format(conf_mx2))"
      ],
      "id": "b_vl72-eWY2f",
      "execution_count": 143,
      "outputs": [
        {
          "output_type": "stream",
          "name": "stdout",
          "text": [
            "Confusion matrix: \n",
            "[[ 4  8  7  1  0  0]\n",
            " [ 3  5 10  2  0  0]\n",
            " [ 1  6  9  2  2  0]\n",
            " [ 0  3  6  9  2  0]\n",
            " [ 2  1  6  6  4  1]\n",
            " [ 0  0  0  0  0  0]]\n"
          ]
        }
      ]
    },
    {
      "cell_type": "code",
      "metadata": {
        "colab": {
          "base_uri": "https://localhost:8080/",
          "height": 532
        },
        "id": "orxpk1p2beej",
        "outputId": "67caea37-56e2-4e12-bb56-bede42f9a58b"
      },
      "source": [
        "row_sums2 = conf_mx2.sum(axis=1, keepdims=True)\n",
        "norm_conf_mx2 = conf_mx2 / row_sums2\n",
        "np.fill_diagonal(norm_conf_mx2, 0)\n",
        "# plt.matshow(norm_conf_mx, cmap=plt.cm.gray)\n",
        "plot_confusion_matrix(norm_conf_mx2)\n",
        "save_fig(\"VGGtransfer_confusion_matrix_errors\", tight_layout=False)\n",
        "plt.show()"
      ],
      "id": "orxpk1p2beej",
      "execution_count": 144,
      "outputs": [
        {
          "output_type": "stream",
          "name": "stderr",
          "text": [
            "/usr/local/lib/python3.7/dist-packages/ipykernel_launcher.py:2: RuntimeWarning: invalid value encountered in true_divide\n",
            "  \n"
          ]
        },
        {
          "output_type": "stream",
          "name": "stdout",
          "text": [
            "Saving figure VGGtransfer_confusion_matrix_errors\n"
          ]
        },
        {
          "output_type": "display_data",
          "data": {
            "image/png": "[encoded data removed]",
            "text/plain": [
              "<Figure size 576x576 with 2 Axes>"
            ]
          },
          "metadata": {
            "needs_background": "light"
          }
        }
      ]
    },
    {
      "cell_type": "markdown",
      "metadata": {
        "id": "YG-hLlnM0_nx"
      },
      "source": [
        "#on train"
      ],
      "id": "YG-hLlnM0_nx"
    },
    {
      "cell_type": "code",
      "metadata": {
        "id": "OLVVqCpLzvlZ"
      },
      "source": [
        "y_predict_prob2t =vgg_model_transfer2.predict(x_train)"
      ],
      "id": "OLVVqCpLzvlZ",
      "execution_count": 47,
      "outputs": []
    },
    {
      "cell_type": "code",
      "metadata": {
        "id": "YGG8-rC27t0v"
      },
      "source": [
        "#y_predict_prob2t"
      ],
      "id": "YGG8-rC27t0v",
      "execution_count": 140,
      "outputs": []
    },
    {
      "cell_type": "code",
      "metadata": {
        "colab": {
          "base_uri": "https://localhost:8080/"
        },
        "id": "axLc-aJSzwFA",
        "outputId": "3da1f49d-86bf-49ac-de94-4894cb7cb3b3"
      },
      "source": [
        "from sklearn.metrics import classification_report\n",
        "\n",
        "print(classification_report(y_train, np.round(y_predict_prob2t)))"
      ],
      "id": "axLc-aJSzwFA",
      "execution_count": 139,
      "outputs": [
        {
          "output_type": "stream",
          "name": "stdout",
          "text": [
            "              precision    recall  f1-score   support\n",
            "\n",
            "         0.0       0.95      0.46      0.62       159\n",
            "         1.0       0.43      0.49      0.46       144\n",
            "         2.0       0.46      0.57      0.51       157\n",
            "         3.0       0.47      0.69      0.55       147\n",
            "         4.0       0.74      0.50      0.60       146\n",
            "         5.0       0.00      0.00      0.00         0\n",
            "\n",
            "    accuracy                           0.54       753\n",
            "   macro avg       0.51      0.45      0.46       753\n",
            "weighted avg       0.61      0.54      0.55       753\n",
            "\n"
          ]
        },
        {
          "output_type": "stream",
          "name": "stderr",
          "text": [
            "/usr/local/lib/python3.7/dist-packages/sklearn/metrics/_classification.py:1272: UndefinedMetricWarning: Recall and F-score are ill-defined and being set to 0.0 in labels with no true samples. Use `zero_division` parameter to control this behavior.\n",
            "  _warn_prf(average, modifier, msg_start, len(result))\n"
          ]
        }
      ]
    },
    {
      "cell_type": "markdown",
      "metadata": {
        "id": "fCcI4Was2J90"
      },
      "source": [
        "Regression model give .5 loss and error on the train on the final epochs \n",
        "then it give 1.8 eror on vaidate whivh show less improving ,\n",
        "give accuscy o .31 on test data and .54 on the train data "
      ],
      "id": "fCcI4Was2J90"
    },
    {
      "cell_type": "markdown",
      "metadata": {
        "id": "b3e25df6"
      },
      "source": [
        "# 3.3 Discussion "
      ],
      "id": "b3e25df6"
    },
    {
      "cell_type": "markdown",
      "metadata": {
        "id": "sD4M71QX3EZJ"
      },
      "source": [
        "Model give on size 64 Model give .96 on train  epochs  show that the model overfit  because it give .41 on test  and .40 on valid \n",
        "and loss from .4 to 1.7 \n",
        "\n",
        "\n",
        "Regression model give .5 loss and error on the train on the final epochs \n",
        "then it give 1.8 eror on vaidate whivh show less improving ,\n",
        "give accuscy o .33 on test data and .30 on the train data\n",
        "\n",
        "\n",
        "\n"
      ],
      "id": "sD4M71QX3EZJ"
    },
    {
      "cell_type": "markdown",
      "metadata": {
        "id": "K1b3gw4mB9mN"
      },
      "source": [
        "\n",
        ">>>classfication is  and higher accuracy .42 on  with less loss in the final epochs \n",
        "higher accuracy .42 on test data\n",
        "so this problem  is suitable to classfication \n",
        "\n",
        "###############\n",
        "model in 3.1  when use imge with size 32 classfication is overfit because on traning data the last epohs get .89 % , but on validation .37% which show that the model overfit and loss icrease on validation \n",
        "but on regression loss on validation increse littel from training\n",
        "\n",
        "but acrroding to f1score its better on classfication .34 and .26 on regression \n",
        "\n"
      ],
      "id": "K1b3gw4mB9mN"
    },
    {
      "cell_type": "markdown",
      "metadata": {
        "id": "1a120b0e"
      },
      "source": [
        "# 4.1 Regularization\n",
        "Regularization and data augmentation are common strategies to deal with small datasets.\n",
        "\n",
        "\n",
        " Regularization Batch Normalization, Dropout"
      ],
      "id": "1a120b0e"
    },
    {
      "cell_type": "markdown",
      "metadata": {
        "id": "359bab28"
      },
      "source": [
        "# A3.1_\n"
      ],
      "id": "359bab28"
    },
    {
      "cell_type": "code",
      "metadata": {
        "id": "ScZqJCCr67cm"
      },
      "source": [
        "from tensorflow.keras.models import Model\n",
        "from keras.layers import BatchNormalization\n",
        "from keras.layers import Dropout\n",
        "for layer in vgg_model.layers:\n",
        "    layer.trainable = False\n",
        "\n",
        "# We will have to use the functional API    \n",
        "\n",
        "# last layers output\n",
        "x = vgg_model.layers[6].output\n",
        "\n",
        "\n",
        "\n",
        "\n",
        "\n",
        "\n",
        "x= BatchNormalization()(x)\n",
        "\n",
        "# Flatten as before\n",
        "x= Conv2D(128,(3,3),activation='relu',padding='same')(x)\n",
        "\n",
        "\n",
        "x = MaxPooling2D((2,2),strides=(2,2))(x)\n",
        "x = Flatten()(x)\n",
        "x = Dense(256, activation='relu')(x)\n",
        "x = Dropout(0.25)(x)\n",
        "x = Dense(5, activation='softmax')(x)\n",
        "\n",
        "\n",
        "vgg_model_transferpatch = Model(inputs=vgg_model.input, outputs=x)"
      ],
      "id": "ScZqJCCr67cm",
      "execution_count": 80,
      "outputs": []
    },
    {
      "cell_type": "code",
      "metadata": {
        "colab": {
          "base_uri": "https://localhost:8080/"
        },
        "id": "XwrKLa6q67kU",
        "outputId": "da8d24be-34bd-4b9f-a476-f2c106528bf1"
      },
      "source": [
        "batchSize = 128\n",
        "nEpochs = 32\n",
        "\n",
        "    \n",
        "sgd = tensorflow.keras.optimizers.SGD(lr=0.0008)\n",
        "vgg_model_transferpatch.compile(loss='categorical_crossentropy', \n",
        "                           optimizer=sgd, \n",
        "                           metrics=['accuracy'])\n",
        "\n",
        "\n",
        "historyatch= vgg_model_transferpatch.fit(x_train, y_train_k, batch_size=batchSize, epochs=nEpochs, verbose=1, \n",
        "                                 validation_data=(x_valid, y_valid_k))"
      ],
      "id": "XwrKLa6q67kU",
      "execution_count": 81,
      "outputs": [
        {
          "output_type": "stream",
          "name": "stderr",
          "text": [
            "/usr/local/lib/python3.7/dist-packages/keras/optimizer_v2/optimizer_v2.py:356: UserWarning: The `lr` argument is deprecated, use `learning_rate` instead.\n",
            "  \"The `lr` argument is deprecated, use `learning_rate` instead.\")\n"
          ]
        },
        {
          "output_type": "stream",
          "name": "stdout",
          "text": [
            "Epoch 1/32\n",
            "6/6 [==============================] - 17s 3s/step - loss: 2.1944 - accuracy: 0.1979 - val_loss: 4.6388 - val_accuracy: 0.2090\n",
            "Epoch 2/32\n",
            "6/6 [==============================] - 16s 3s/step - loss: 1.9295 - accuracy: 0.2311 - val_loss: 3.5632 - val_accuracy: 0.2015\n",
            "Epoch 3/32\n",
            "6/6 [==============================] - 17s 3s/step - loss: 1.9012 - accuracy: 0.2244 - val_loss: 2.9039 - val_accuracy: 0.2388\n",
            "Epoch 4/32\n",
            "6/6 [==============================] - 17s 3s/step - loss: 1.8375 - accuracy: 0.2470 - val_loss: 2.5569 - val_accuracy: 0.2090\n",
            "Epoch 5/32\n",
            "6/6 [==============================] - 17s 3s/step - loss: 1.7775 - accuracy: 0.2789 - val_loss: 2.4527 - val_accuracy: 0.2090\n",
            "Epoch 6/32\n",
            "6/6 [==============================] - 17s 3s/step - loss: 1.7290 - accuracy: 0.2656 - val_loss: 2.1468 - val_accuracy: 0.1866\n",
            "Epoch 7/32\n",
            "6/6 [==============================] - 17s 3s/step - loss: 1.7119 - accuracy: 0.2643 - val_loss: 2.0430 - val_accuracy: 0.2015\n",
            "Epoch 8/32\n",
            "6/6 [==============================] - 17s 3s/step - loss: 1.6324 - accuracy: 0.3054 - val_loss: 1.9873 - val_accuracy: 0.2164\n",
            "Epoch 9/32\n",
            "6/6 [==============================] - 17s 3s/step - loss: 1.6082 - accuracy: 0.3094 - val_loss: 1.9238 - val_accuracy: 0.2164\n",
            "Epoch 10/32\n",
            "6/6 [==============================] - 17s 3s/step - loss: 1.5144 - accuracy: 0.3479 - val_loss: 1.8842 - val_accuracy: 0.2164\n",
            "Epoch 11/32\n",
            "6/6 [==============================] - 17s 3s/step - loss: 1.5391 - accuracy: 0.3572 - val_loss: 1.8276 - val_accuracy: 0.2090\n",
            "Epoch 12/32\n",
            "6/6 [==============================] - 18s 3s/step - loss: 1.5215 - accuracy: 0.3586 - val_loss: 1.7643 - val_accuracy: 0.2239\n",
            "Epoch 13/32\n",
            "6/6 [==============================] - 17s 3s/step - loss: 1.4492 - accuracy: 0.3732 - val_loss: 1.7431 - val_accuracy: 0.2388\n",
            "Epoch 14/32\n",
            "6/6 [==============================] - 17s 3s/step - loss: 1.4317 - accuracy: 0.3971 - val_loss: 1.6986 - val_accuracy: 0.2463\n",
            "Epoch 15/32\n",
            "6/6 [==============================] - 17s 3s/step - loss: 1.4334 - accuracy: 0.3904 - val_loss: 1.7002 - val_accuracy: 0.2687\n",
            "Epoch 16/32\n",
            "6/6 [==============================] - 17s 3s/step - loss: 1.4317 - accuracy: 0.3931 - val_loss: 1.6982 - val_accuracy: 0.2463\n",
            "Epoch 17/32\n",
            "6/6 [==============================] - 17s 3s/step - loss: 1.3705 - accuracy: 0.4290 - val_loss: 1.6575 - val_accuracy: 0.2388\n",
            "Epoch 18/32\n",
            "6/6 [==============================] - 17s 3s/step - loss: 1.3690 - accuracy: 0.4170 - val_loss: 1.6367 - val_accuracy: 0.2239\n",
            "Epoch 19/32\n",
            "6/6 [==============================] - 17s 3s/step - loss: 1.3648 - accuracy: 0.4157 - val_loss: 1.6135 - val_accuracy: 0.2537\n",
            "Epoch 20/32\n",
            "6/6 [==============================] - 17s 3s/step - loss: 1.3216 - accuracy: 0.4489 - val_loss: 1.6116 - val_accuracy: 0.2463\n",
            "Epoch 21/32\n",
            "6/6 [==============================] - 17s 3s/step - loss: 1.2988 - accuracy: 0.4754 - val_loss: 1.5733 - val_accuracy: 0.2687\n",
            "Epoch 22/32\n",
            "6/6 [==============================] - 17s 3s/step - loss: 1.2724 - accuracy: 0.4940 - val_loss: 1.5987 - val_accuracy: 0.2836\n",
            "Epoch 23/32\n",
            "6/6 [==============================] - 17s 3s/step - loss: 1.2760 - accuracy: 0.4794 - val_loss: 1.5591 - val_accuracy: 0.2836\n",
            "Epoch 24/32\n",
            "6/6 [==============================] - 17s 3s/step - loss: 1.2300 - accuracy: 0.5060 - val_loss: 1.5533 - val_accuracy: 0.2910\n",
            "Epoch 25/32\n",
            "6/6 [==============================] - 17s 3s/step - loss: 1.2474 - accuracy: 0.4861 - val_loss: 1.5663 - val_accuracy: 0.2612\n",
            "Epoch 26/32\n",
            "6/6 [==============================] - 17s 3s/step - loss: 1.2160 - accuracy: 0.5246 - val_loss: 1.5344 - val_accuracy: 0.3060\n",
            "Epoch 27/32\n",
            "6/6 [==============================] - 17s 3s/step - loss: 1.1743 - accuracy: 0.5378 - val_loss: 1.5482 - val_accuracy: 0.2910\n",
            "Epoch 28/32\n",
            "6/6 [==============================] - 17s 3s/step - loss: 1.1780 - accuracy: 0.5498 - val_loss: 1.5395 - val_accuracy: 0.2836\n",
            "Epoch 29/32\n",
            "6/6 [==============================] - 17s 3s/step - loss: 1.1958 - accuracy: 0.5471 - val_loss: 1.5143 - val_accuracy: 0.3209\n",
            "Epoch 30/32\n",
            "6/6 [==============================] - 17s 3s/step - loss: 1.1409 - accuracy: 0.5790 - val_loss: 1.5088 - val_accuracy: 0.3507\n",
            "Epoch 31/32\n",
            "6/6 [==============================] - 17s 3s/step - loss: 1.1310 - accuracy: 0.5777 - val_loss: 1.4907 - val_accuracy: 0.3284\n",
            "Epoch 32/32\n",
            "6/6 [==============================] - 17s 3s/step - loss: 1.1164 - accuracy: 0.5697 - val_loss: 1.5050 - val_accuracy: 0.3358\n"
          ]
        }
      ]
    },
    {
      "cell_type": "code",
      "metadata": {
        "colab": {
          "base_uri": "https://localhost:8080/"
        },
        "id": "k9-BkUfA67m2",
        "outputId": "a5c46768-456a-4744-c8a7-2e78af53196d"
      },
      "source": [
        "vgg_model_transferpatch.save(\"/content/drive/MyDrive/assignment3cv/vgg_model_transferpatch3.1\")"
      ],
      "id": "k9-BkUfA67m2",
      "execution_count": 54,
      "outputs": [
        {
          "output_type": "stream",
          "name": "stdout",
          "text": [
            "INFO:tensorflow:Assets written to: /content/drive/MyDrive/assignment3cv/vgg_model_transferpatch3.1/assets\n"
          ]
        }
      ]
    },
    {
      "cell_type": "markdown",
      "metadata": {
        "id": "EQwDfbMLBaY1"
      },
      "source": [
        "#print your learning curves for training and validation "
      ],
      "id": "EQwDfbMLBaY1"
    },
    {
      "cell_type": "code",
      "metadata": {
        "colab": {
          "base_uri": "https://localhost:8080/",
          "height": 302
        },
        "id": "h8kxWIiz67pU",
        "outputId": "54b12d57-1cb3-41a8-8465-b2a5514f4e46"
      },
      "source": [
        "# dictionary keys seems to have changed in version 2\n",
        "k = ''\n",
        "if 'accuracy' in historyatch.history :\n",
        "    k = 'accuracy'    \n",
        "\n",
        "if 'acc' in historyatch.history :\n",
        "    k = 'acc'\n",
        "    \n",
        "if k != '' :    \n",
        "    plt.plot(historyatch.history[k])\n",
        "    plt.plot(historyatch.history['val_'+k])\n",
        "    plt.title('Model Accuracy')\n",
        "    plt.ylabel('Accuracy')\n",
        "    plt.xlabel('Epoch')\n",
        "    plt.legend(['train', 'valid'], loc='upper left')\n",
        "    plt.show()"
      ],
      "id": "h8kxWIiz67pU",
      "execution_count": 82,
      "outputs": [
        {
          "output_type": "display_data",
          "data": {
            "image/png": "[encoded data removed]",
            "text/plain": [
              "<Figure size 432x288 with 1 Axes>"
            ]
          },
          "metadata": {
            "needs_background": "light"
          }
        }
      ]
    },
    {
      "cell_type": "code",
      "metadata": {
        "colab": {
          "base_uri": "https://localhost:8080/",
          "height": 302
        },
        "id": "Y7uMYUna67u2",
        "outputId": "0139d3c8-534b-4dce-b38c-cf8540bde76c"
      },
      "source": [
        "plt.plot(historyatch.history['loss'])\n",
        "plt.plot(historyatch.history['val_loss'])\n",
        "plt.title('Model loss')\n",
        "plt.ylabel('Loss')\n",
        "plt.xlabel('Epoch')\n",
        "plt.legend(['train', 'valid'], loc='upper left')\n",
        "plt.show()"
      ],
      "id": "Y7uMYUna67u2",
      "execution_count": 83,
      "outputs": [
        {
          "output_type": "display_data",
          "data": {
            "image/png": "[encoded data removed]",
            "text/plain": [
              "<Figure size 432x288 with 1 Axes>"
            ]
          },
          "metadata": {
            "needs_background": "light"
          }
        }
      ]
    },
    {
      "cell_type": "code",
      "metadata": {
        "id": "AAHiVerM67xe"
      },
      "source": [
        "y_predictpatch_prob = vgg_model_transferpatch.predict(x_test)\n",
        "y_predictpatch = y_predictpatch_prob.argmax(axis=-1)"
      ],
      "id": "AAHiVerM67xe",
      "execution_count": 84,
      "outputs": []
    },
    {
      "cell_type": "markdown",
      "metadata": {
        "id": "B6xKy89ZBgH8"
      },
      "source": [
        "#print the corresponding metrics for your\n",
        "model"
      ],
      "id": "B6xKy89ZBgH8"
    },
    {
      "cell_type": "code",
      "metadata": {
        "colab": {
          "base_uri": "https://localhost:8080/"
        },
        "id": "B1wGF0n967z8",
        "outputId": "deaab7d3-06c7-4802-8d46-89c1d167f365"
      },
      "source": [
        "from sklearn.metrics import confusion_matrix\n",
        "\n",
        "conf_mx3 = confusion_matrix(y_test, y_predictpatch )\n",
        "print('Confusion matrix: \\n{0}'.format(conf_mx))"
      ],
      "id": "B1wGF0n967z8",
      "execution_count": 107,
      "outputs": [
        {
          "output_type": "stream",
          "name": "stdout",
          "text": [
            "Confusion matrix: \n",
            "[[12  2  2  2  2]\n",
            " [ 9  5  3  3  0]\n",
            " [ 3  5  4  4  4]\n",
            " [ 1  4  3  6  6]\n",
            " [ 2  4  3  6  5]]\n"
          ]
        }
      ]
    },
    {
      "cell_type": "code",
      "metadata": {
        "colab": {
          "base_uri": "https://localhost:8080/",
          "height": 496
        },
        "id": "F05VfMZkb8lk",
        "outputId": "e1270d16-fcf8-4dd0-85e3-1a3a1ba4fdb7"
      },
      "source": [
        "row_sums3 = conf_mx3.sum(axis=1, keepdims=True)\n",
        "norm_conf_mx3 = conf_mx3 / row_sums3\n",
        "np.fill_diagonal(norm_conf_mx3, 0)\n",
        "# plt.matshow(norm_conf_mx, cmap=plt.cm.gray)\n",
        "plot_confusion_matrix(norm_conf_mx3)\n",
        "save_fig(\"VGGtransfer_confusion_matrix_errors\", tight_layout=False)\n",
        "plt.show()"
      ],
      "id": "F05VfMZkb8lk",
      "execution_count": 108,
      "outputs": [
        {
          "output_type": "stream",
          "name": "stdout",
          "text": [
            "Saving figure VGGtransfer_confusion_matrix_errors\n"
          ]
        },
        {
          "output_type": "display_data",
          "data": {
            "image/png": "[encoded data removed]",
            "text/plain": [
              "<Figure size 576x576 with 2 Axes>"
            ]
          },
          "metadata": {
            "needs_background": "light"
          }
        }
      ]
    },
    {
      "cell_type": "code",
      "metadata": {
        "colab": {
          "base_uri": "https://localhost:8080/"
        },
        "id": "x__SD1wT672l",
        "outputId": "db792ab8-bbfe-4917-dfb4-e72a3e59b4ff"
      },
      "source": [
        "from sklearn.metrics import classification_report\n",
        "\n",
        "print(classification_report(y_test, y_predictpatch ))"
      ],
      "id": "x__SD1wT672l",
      "execution_count": 86,
      "outputs": [
        {
          "output_type": "stream",
          "name": "stdout",
          "text": [
            "              precision    recall  f1-score   support\n",
            "\n",
            "           0       0.55      0.55      0.55        20\n",
            "           1       1.00      0.30      0.46        20\n",
            "           2       0.32      0.40      0.36        20\n",
            "           3       0.29      0.25      0.27        20\n",
            "           4       0.38      0.60      0.46        20\n",
            "\n",
            "    accuracy                           0.42       100\n",
            "   macro avg       0.51      0.42      0.42       100\n",
            "weighted avg       0.51      0.42      0.42       100\n",
            "\n"
          ]
        }
      ]
    },
    {
      "cell_type": "markdown",
      "metadata": {
        "id": "m_DJNrgfBbbm"
      },
      "source": [
        "#on train and validate"
      ],
      "id": "m_DJNrgfBbbm"
    },
    {
      "cell_type": "code",
      "metadata": {
        "id": "vsWcAe91BaFC"
      },
      "source": [
        "y_predictpatch_probt = vgg_model_transferpatch.predict(x_train)\n",
        "y_predictpatcht = y_predictpatch_probt.argmax(axis=-1)"
      ],
      "id": "vsWcAe91BaFC",
      "execution_count": 87,
      "outputs": []
    },
    {
      "cell_type": "code",
      "metadata": {
        "colab": {
          "base_uri": "https://localhost:8080/"
        },
        "id": "k3031BnpBafm",
        "outputId": "ffa2af28-5d33-410d-b68f-44e3719c3e4d"
      },
      "source": [
        "from sklearn.metrics import classification_report\n",
        "\n",
        "print(classification_report(y_train, y_predictpatcht ))"
      ],
      "id": "k3031BnpBafm",
      "execution_count": 88,
      "outputs": [
        {
          "output_type": "stream",
          "name": "stdout",
          "text": [
            "              precision    recall  f1-score   support\n",
            "\n",
            "           0       0.82      0.73      0.77       159\n",
            "           1       0.75      0.49      0.59       144\n",
            "           2       0.54      0.65      0.59       157\n",
            "           3       0.66      0.67      0.66       147\n",
            "           4       0.61      0.74      0.67       146\n",
            "\n",
            "    accuracy                           0.66       753\n",
            "   macro avg       0.67      0.66      0.66       753\n",
            "weighted avg       0.67      0.66      0.66       753\n",
            "\n"
          ]
        }
      ]
    },
    {
      "cell_type": "code",
      "metadata": {
        "id": "kt03PxH4Bapt"
      },
      "source": [
        "y_predictpatch_probv = vgg_model_transferpatch.predict(x_valid)\n",
        "y_predictpatchv= y_predictpatch_probv.argmax(axis=-1)"
      ],
      "id": "kt03PxH4Bapt",
      "execution_count": 89,
      "outputs": []
    },
    {
      "cell_type": "code",
      "metadata": {
        "colab": {
          "base_uri": "https://localhost:8080/"
        },
        "id": "nIQjN3ffHDhQ",
        "outputId": "0d897959-923d-423d-c9c8-fb920a80aa33"
      },
      "source": [
        "from sklearn.metrics import classification_report\n",
        "\n",
        "print(classification_report(y_valid, y_predictpatchv ))"
      ],
      "id": "nIQjN3ffHDhQ",
      "execution_count": 90,
      "outputs": [
        {
          "output_type": "stream",
          "name": "stdout",
          "text": [
            "              precision    recall  f1-score   support\n",
            "\n",
            "           0       0.67      0.48      0.56        21\n",
            "           1       0.50      0.25      0.33        36\n",
            "           2       0.22      0.39      0.28        23\n",
            "           3       0.27      0.23      0.25        30\n",
            "           4       0.29      0.42      0.34        24\n",
            "\n",
            "    accuracy                           0.34       134\n",
            "   macro avg       0.39      0.35      0.35       134\n",
            "weighted avg       0.39      0.34      0.34       134\n",
            "\n"
          ]
        }
      ]
    },
    {
      "cell_type": "markdown",
      "metadata": {
        "id": "csG0juqfHhsF"
      },
      "source": [
        "classfication problem the model get .56 accuracy on the train and .33 on the validation whih less overfit from the previous classfication above\n",
        "improve on test\n",
        "on test get .42 sannd f1score .42\n",
        "\n",
        "\n",
        "\n",
        "\n",
        "\n"
      ],
      "id": "csG0juqfHhsF"
    },
    {
      "cell_type": "markdown",
      "metadata": {
        "id": "zUXuwQkuNqgr"
      },
      "source": [
        "https://keras.io/api/layers/regularizers/"
      ],
      "id": "zUXuwQkuNqgr"
    },
    {
      "cell_type": "markdown",
      "metadata": {
        "id": "GG2-n1Ul6ZKe"
      },
      "source": [
        "https://analyticsindiamag.com/everything-you-should-know-about-dropouts-and-batchnormalization-in-cnn/\n",
        "\n",
        "https://machinelearningmastery.com/dropout-regularization-deep-learning-models-keras/"
      ],
      "id": "GG2-n1Ul6ZKe"
    },
    {
      "cell_type": "markdown",
      "metadata": {
        "id": "310e412c"
      },
      "source": [
        "# 5 Data Augmentation"
      ],
      "id": "310e412c"
    },
    {
      "cell_type": "markdown",
      "metadata": {
        "id": "0eb442fb"
      },
      "source": [
        "# A3.1_"
      ],
      "id": "0eb442fb"
    },
    {
      "cell_type": "markdown",
      "metadata": {
        "id": "pJ_jv_wULs6U"
      },
      "source": [
        "data augmentation consists in increasing your number of instances in your dataset by applying some transfromations. Let's say I want to classify images. If I apply a random rotation to every image in a data set"
      ],
      "id": "pJ_jv_wULs6U"
    },
    {
      "cell_type": "markdown",
      "metadata": {
        "id": "WhEbVMDRMNza"
      },
      "source": [
        "https://datascience.stackexchange.com/questions/85832/what-exactly-are-the-data-augmentation-experimental-keras-layers-doing\n",
        "\n",
        "\n",
        "https://sayak.dev/tf.keras/data_augmentation/image/2020/05/10/augmemtation-recipes.html\n",
        "\n",
        "https://sayak.dev/tf.keras/data_augmentation/image/2020/05/10/augmemtation-recipes.html\n",
        "\n",
        "https://keras.io/guides/transfer_learning/\n",
        "\n",
        "entire model using the Sequential API, you can now construct very flexible data augmentation pipelines using the newly introduced (although experimental at the time of writing this) image processing layers"
      ],
      "id": "WhEbVMDRMNza"
    },
    {
      "cell_type": "code",
      "metadata": {
        "id": "PFDlOHRhNwFE"
      },
      "source": [
        "data_augmentation = tf.keras.Sequential([\n",
        "    tf.keras.layers.experimental.preprocessing.RandomFlip('horizontal'),\n",
        "    tf.keras.layers.experimental.preprocessing.RandomRotation(0.3)\n",
        "])"
      ],
      "id": "PFDlOHRhNwFE",
      "execution_count": 91,
      "outputs": []
    },
    {
      "cell_type": "code",
      "metadata": {
        "id": "C2VVkYsbTkDL"
      },
      "source": [
        "for layer in vgg_model.layers:\n",
        "    layer.trainable = False\n",
        "\n",
        "# We will have to use the functional API \n",
        "inputs = keras.Input(shape=(32, 32, 3))\n",
        "x = data_augmentation(inputs)   \n",
        "\n",
        "# last layers output\n",
        "x = vgg_model.layers[6].output\n",
        "# Flatten as before\n",
        "\n",
        "\n",
        "\n",
        "\n",
        "\n",
        "x=Conv2D(128,(3,3),activation='relu',padding='same')(x)\n",
        "\n",
        "x=MaxPooling2D((2,2),strides=(2,2))(x)\n",
        "x = Flatten()(x)\n",
        "x = Dense(256, activation='relu')(x)\n",
        "x = Dense(5, activation='softmax')(x)\n",
        "\n",
        "from tensorflow.keras.models import Model\n",
        "vgg_model_transferagmantation = Model(inputs=vgg_model.input, outputs=x)"
      ],
      "id": "C2VVkYsbTkDL",
      "execution_count": 92,
      "outputs": []
    },
    {
      "cell_type": "code",
      "metadata": {
        "colab": {
          "base_uri": "https://localhost:8080/"
        },
        "id": "TnoGXcXeTk5O",
        "outputId": "adf3b5be-9ab9-4d9b-b189-0c279571fbcd"
      },
      "source": [
        "batchSize = 128\n",
        "nEpochs = 32\n",
        "\n",
        "    \n",
        "sgd = tensorflow.keras.optimizers.SGD(lr=0.0008)\n",
        "vgg_model_transferagmantation.compile(loss='categorical_crossentropy', \n",
        "                           optimizer=sgd, \n",
        "                           metrics=['accuracy'])\n",
        "\n",
        "\n",
        "historyaug = vgg_model_transferagmantation.fit(x_train, y_train_k, batch_size=batchSize, epochs=nEpochs, verbose=1, \n",
        "                                 validation_data=(x_valid, y_valid_k))"
      ],
      "id": "TnoGXcXeTk5O",
      "execution_count": 93,
      "outputs": [
        {
          "output_type": "stream",
          "name": "stderr",
          "text": [
            "/usr/local/lib/python3.7/dist-packages/keras/optimizer_v2/optimizer_v2.py:356: UserWarning: The `lr` argument is deprecated, use `learning_rate` instead.\n",
            "  \"The `lr` argument is deprecated, use `learning_rate` instead.\")\n"
          ]
        },
        {
          "output_type": "stream",
          "name": "stdout",
          "text": [
            "Epoch 1/32\n",
            "6/6 [==============================] - 16s 3s/step - loss: 30.2706 - accuracy: 0.1833 - val_loss: 2.6537 - val_accuracy: 0.1866\n",
            "Epoch 2/32\n",
            "6/6 [==============================] - 15s 3s/step - loss: 2.1586 - accuracy: 0.2311 - val_loss: 2.2193 - val_accuracy: 0.1866\n",
            "Epoch 3/32\n",
            "6/6 [==============================] - 15s 3s/step - loss: 1.8596 - accuracy: 0.2882 - val_loss: 2.0118 - val_accuracy: 0.1940\n",
            "Epoch 4/32\n",
            "6/6 [==============================] - 15s 3s/step - loss: 1.6607 - accuracy: 0.3440 - val_loss: 1.9661 - val_accuracy: 0.2313\n",
            "Epoch 5/32\n",
            "6/6 [==============================] - 15s 3s/step - loss: 1.5136 - accuracy: 0.3838 - val_loss: 1.8683 - val_accuracy: 0.2164\n",
            "Epoch 6/32\n",
            "6/6 [==============================] - 16s 3s/step - loss: 1.4058 - accuracy: 0.4329 - val_loss: 1.8317 - val_accuracy: 0.2313\n",
            "Epoch 7/32\n",
            "6/6 [==============================] - 15s 3s/step - loss: 1.3121 - accuracy: 0.4900 - val_loss: 1.8471 - val_accuracy: 0.2463\n",
            "Epoch 8/32\n",
            "6/6 [==============================] - 15s 3s/step - loss: 1.2389 - accuracy: 0.5179 - val_loss: 1.8109 - val_accuracy: 0.2612\n",
            "Epoch 9/32\n",
            "6/6 [==============================] - 15s 3s/step - loss: 1.1600 - accuracy: 0.5551 - val_loss: 1.8303 - val_accuracy: 0.2388\n",
            "Epoch 10/32\n",
            "6/6 [==============================] - 15s 3s/step - loss: 1.0908 - accuracy: 0.6016 - val_loss: 1.8592 - val_accuracy: 0.2463\n",
            "Epoch 11/32\n",
            "6/6 [==============================] - 15s 3s/step - loss: 1.0446 - accuracy: 0.6175 - val_loss: 1.7906 - val_accuracy: 0.2313\n",
            "Epoch 12/32\n",
            "6/6 [==============================] - 15s 3s/step - loss: 0.9863 - accuracy: 0.6574 - val_loss: 1.8027 - val_accuracy: 0.2537\n",
            "Epoch 13/32\n",
            "6/6 [==============================] - 15s 3s/step - loss: 0.9275 - accuracy: 0.6919 - val_loss: 1.7869 - val_accuracy: 0.2537\n",
            "Epoch 14/32\n",
            "6/6 [==============================] - 15s 3s/step - loss: 0.8755 - accuracy: 0.7198 - val_loss: 1.8225 - val_accuracy: 0.2537\n",
            "Epoch 15/32\n",
            "6/6 [==============================] - 15s 3s/step - loss: 0.8387 - accuracy: 0.7384 - val_loss: 1.8056 - val_accuracy: 0.2537\n",
            "Epoch 16/32\n",
            "6/6 [==============================] - 15s 3s/step - loss: 0.7948 - accuracy: 0.7676 - val_loss: 1.8299 - val_accuracy: 0.2463\n",
            "Epoch 17/32\n",
            "6/6 [==============================] - 15s 3s/step - loss: 0.7609 - accuracy: 0.7782 - val_loss: 1.8082 - val_accuracy: 0.2612\n",
            "Epoch 18/32\n",
            "6/6 [==============================] - 15s 3s/step - loss: 0.7137 - accuracy: 0.8021 - val_loss: 1.8340 - val_accuracy: 0.2463\n",
            "Epoch 19/32\n",
            "6/6 [==============================] - 15s 3s/step - loss: 0.6915 - accuracy: 0.8194 - val_loss: 1.8329 - val_accuracy: 0.2612\n",
            "Epoch 20/32\n",
            "6/6 [==============================] - 15s 3s/step - loss: 0.6501 - accuracy: 0.8406 - val_loss: 1.8155 - val_accuracy: 0.2388\n",
            "Epoch 21/32\n",
            "6/6 [==============================] - 15s 3s/step - loss: 0.6353 - accuracy: 0.8433 - val_loss: 1.8150 - val_accuracy: 0.2687\n",
            "Epoch 22/32\n",
            "6/6 [==============================] - 15s 3s/step - loss: 0.5838 - accuracy: 0.8659 - val_loss: 1.8293 - val_accuracy: 0.2612\n",
            "Epoch 23/32\n",
            "6/6 [==============================] - 15s 3s/step - loss: 0.5583 - accuracy: 0.8805 - val_loss: 1.8385 - val_accuracy: 0.2537\n",
            "Epoch 24/32\n",
            "6/6 [==============================] - 15s 3s/step - loss: 0.5316 - accuracy: 0.9017 - val_loss: 1.8126 - val_accuracy: 0.2612\n",
            "Epoch 25/32\n",
            "6/6 [==============================] - 15s 3s/step - loss: 0.5083 - accuracy: 0.9097 - val_loss: 1.8312 - val_accuracy: 0.2537\n",
            "Epoch 26/32\n",
            "6/6 [==============================] - 15s 3s/step - loss: 0.4850 - accuracy: 0.9177 - val_loss: 1.8491 - val_accuracy: 0.2761\n",
            "Epoch 27/32\n",
            "6/6 [==============================] - 15s 3s/step - loss: 0.4636 - accuracy: 0.9177 - val_loss: 1.8302 - val_accuracy: 0.2761\n",
            "Epoch 28/32\n",
            "6/6 [==============================] - 15s 3s/step - loss: 0.4447 - accuracy: 0.9309 - val_loss: 1.8442 - val_accuracy: 0.2761\n",
            "Epoch 29/32\n",
            "6/6 [==============================] - 15s 3s/step - loss: 0.4248 - accuracy: 0.9349 - val_loss: 1.8544 - val_accuracy: 0.2687\n",
            "Epoch 30/32\n",
            "6/6 [==============================] - 15s 3s/step - loss: 0.4057 - accuracy: 0.9522 - val_loss: 1.8859 - val_accuracy: 0.2612\n",
            "Epoch 31/32\n",
            "6/6 [==============================] - 15s 3s/step - loss: 0.3876 - accuracy: 0.9535 - val_loss: 1.8534 - val_accuracy: 0.2687\n",
            "Epoch 32/32\n",
            "6/6 [==============================] - 15s 3s/step - loss: 0.3736 - accuracy: 0.9548 - val_loss: 1.8696 - val_accuracy: 0.2313\n"
          ]
        }
      ]
    },
    {
      "cell_type": "code",
      "metadata": {
        "colab": {
          "base_uri": "https://localhost:8080/"
        },
        "id": "fp-0AFMDVDkH",
        "outputId": "ab3808d2-d08c-4501-e54c-261ac57b75f2"
      },
      "source": [
        "vgg_model_transferagmantation.save(\"/content/drive/MyDrive/assignment3cv/vggtransferagmantationmodel3.1\")"
      ],
      "id": "fp-0AFMDVDkH",
      "execution_count": null,
      "outputs": [
        {
          "output_type": "stream",
          "name": "stdout",
          "text": [
            "INFO:tensorflow:Assets written to: /content/drive/MyDrive/assignment3cv/vggtransferagmantationmodel3.1/assets\n"
          ]
        }
      ]
    },
    {
      "cell_type": "code",
      "metadata": {
        "colab": {
          "base_uri": "https://localhost:8080/",
          "height": 302
        },
        "id": "R_y3aPwuVfXy",
        "outputId": "69fa3466-48e8-475a-f5f0-28a79ad3c64c"
      },
      "source": [
        "# dictionary keys seems to have changed in version 2\n",
        "k = ''\n",
        "if 'accuracy' in historyaug.history :\n",
        "    k = 'accuracy'    \n",
        "\n",
        "if 'acc' in historyaug.history :\n",
        "    k = 'acc'\n",
        "    \n",
        "if k != '' :    \n",
        "    plt.plot(historyaug.history[k])\n",
        "    plt.plot(historyaug.history['val_'+k])\n",
        "    plt.title('Model Accuracy')\n",
        "    plt.ylabel('Accuracy')\n",
        "    plt.xlabel('Epoch')\n",
        "    plt.legend(['train', 'valid'], loc='upper left')\n",
        "    plt.show()"
      ],
      "id": "R_y3aPwuVfXy",
      "execution_count": 94,
      "outputs": [
        {
          "output_type": "display_data",
          "data": {
            "image/png": "[encoded data removed]",
            "text/plain": [
              "<Figure size 432x288 with 1 Axes>"
            ]
          },
          "metadata": {
            "needs_background": "light"
          }
        }
      ]
    },
    {
      "cell_type": "code",
      "metadata": {
        "colab": {
          "base_uri": "https://localhost:8080/",
          "height": 302
        },
        "id": "2UPQ0fTpVkpk",
        "outputId": "162c2add-1a65-469d-f577-5c4a8ad40457"
      },
      "source": [
        "plt.plot(historyaug.history['loss'])\n",
        "plt.plot(historyaug.history['val_loss'])\n",
        "plt.title('Model loss')\n",
        "plt.ylabel('Loss')\n",
        "plt.xlabel('Epoch')\n",
        "plt.legend(['train', 'valid'], loc='upper left')\n",
        "plt.show()"
      ],
      "id": "2UPQ0fTpVkpk",
      "execution_count": 95,
      "outputs": [
        {
          "output_type": "display_data",
          "data": {
            "image/png": "[encoded data removed]",
            "text/plain": [
              "<Figure size 432x288 with 1 Axes>"
            ]
          },
          "metadata": {
            "needs_background": "light"
          }
        }
      ]
    },
    {
      "cell_type": "markdown",
      "metadata": {
        "id": "1WilpwnuWyOt"
      },
      "source": [
        "loss is decreaing efficient with data augmentation"
      ],
      "id": "1WilpwnuWyOt"
    },
    {
      "cell_type": "code",
      "metadata": {
        "id": "Yeokgs-zV6Lj"
      },
      "source": [
        "y_predictrau_prob = vgg_model_transferagmantation.predict(x_test)\n",
        "y_predictrau = y_predictrau_prob.argmax(axis=-1)"
      ],
      "id": "Yeokgs-zV6Lj",
      "execution_count": 96,
      "outputs": []
    },
    {
      "cell_type": "code",
      "metadata": {
        "colab": {
          "base_uri": "https://localhost:8080/"
        },
        "id": "eTwOcyzMWjbb",
        "outputId": "86cae1ad-61a3-4cca-d0cb-3c7d2f954e2e"
      },
      "source": [
        "vgg_model_transferagmantation.evaluate(x_test)"
      ],
      "id": "eTwOcyzMWjbb",
      "execution_count": 97,
      "outputs": [
        {
          "output_type": "stream",
          "name": "stdout",
          "text": [
            "4/4 [==============================] - 0s 3ms/step - loss: 0.0000e+00 - accuracy: 0.0000e+00\n"
          ]
        },
        {
          "output_type": "execute_result",
          "data": {
            "text/plain": [
              "[0.0, 0.0]"
            ]
          },
          "metadata": {},
          "execution_count": 97
        }
      ]
    },
    {
      "cell_type": "code",
      "metadata": {
        "colab": {
          "base_uri": "https://localhost:8080/"
        },
        "id": "mw5zcgLnV6tW",
        "outputId": "35daa7c2-9239-4be4-d942-ae14b68cfd70"
      },
      "source": [
        "from sklearn.metrics import confusion_matrix\n",
        "\n",
        "conf_mx4 = confusion_matrix(y_test, y_predictrau )\n",
        "print('Confusion matrix: \\n{0}'.format(conf_mx))"
      ],
      "id": "mw5zcgLnV6tW",
      "execution_count": 110,
      "outputs": [
        {
          "output_type": "stream",
          "name": "stdout",
          "text": [
            "Confusion matrix: \n",
            "[[12  2  2  2  2]\n",
            " [ 9  5  3  3  0]\n",
            " [ 3  5  4  4  4]\n",
            " [ 1  4  3  6  6]\n",
            " [ 2  4  3  6  5]]\n"
          ]
        }
      ]
    },
    {
      "cell_type": "code",
      "metadata": {
        "colab": {
          "base_uri": "https://localhost:8080/",
          "height": 496
        },
        "id": "cYvu8ADccP26",
        "outputId": "c5c234cf-8591-400d-ee4a-9905835aae94"
      },
      "source": [
        "row_sums4 = conf_mx4.sum(axis=1, keepdims=True)\n",
        "norm_conf_mx4 = conf_mx4 / row_sums4\n",
        "np.fill_diagonal(norm_conf_mx4, 0)\n",
        "# plt.matshow(norm_conf_mx, cmap=plt.cm.gray)\n",
        "plot_confusion_matrix(norm_conf_mx4)\n",
        "save_fig(\"VGGtransfer_confusion_matrix_errors\", tight_layout=False)\n",
        "plt.show()"
      ],
      "id": "cYvu8ADccP26",
      "execution_count": 111,
      "outputs": [
        {
          "output_type": "stream",
          "name": "stdout",
          "text": [
            "Saving figure VGGtransfer_confusion_matrix_errors\n"
          ]
        },
        {
          "output_type": "display_data",
          "data": {
            "image/png": "[encoded data removed]",
            "text/plain": [
              "<Figure size 576x576 with 2 Axes>"
            ]
          },
          "metadata": {
            "needs_background": "light"
          }
        }
      ]
    },
    {
      "cell_type": "code",
      "metadata": {
        "colab": {
          "base_uri": "https://localhost:8080/"
        },
        "id": "_d7We-q_ijb8",
        "outputId": "1201d872-df9b-4298-e462-b9cef9333698"
      },
      "source": [
        "from sklearn.metrics import classification_report\n",
        "\n",
        "print(classification_report(y_test, y_predictrau ))"
      ],
      "id": "_d7We-q_ijb8",
      "execution_count": 99,
      "outputs": [
        {
          "output_type": "stream",
          "name": "stdout",
          "text": [
            "              precision    recall  f1-score   support\n",
            "\n",
            "           0       0.44      0.60      0.51        20\n",
            "           1       0.25      0.25      0.25        20\n",
            "           2       0.27      0.20      0.23        20\n",
            "           3       0.29      0.30      0.29        20\n",
            "           4       0.29      0.25      0.27        20\n",
            "\n",
            "    accuracy                           0.32       100\n",
            "   macro avg       0.31      0.32      0.31       100\n",
            "weighted avg       0.31      0.32      0.31       100\n",
            "\n"
          ]
        }
      ]
    },
    {
      "cell_type": "markdown",
      "metadata": {
        "id": "iPROSa_XGksm"
      },
      "source": [
        "the model with rerization only  get .32 on test data   never seen which show  not improve overfit"
      ],
      "id": "iPROSa_XGksm"
    },
    {
      "cell_type": "markdown",
      "metadata": {
        "id": "DPezW6flm4I8"
      },
      "source": [
        "#train and valid"
      ],
      "id": "DPezW6flm4I8"
    },
    {
      "cell_type": "code",
      "metadata": {
        "id": "ZLiysShplKQU"
      },
      "source": [
        "y_predictrau_probt = vgg_model_transferagmantation.predict(x_train)\n",
        "y_predictraut = y_predictrau_probt.argmax(axis=-1)"
      ],
      "id": "ZLiysShplKQU",
      "execution_count": 100,
      "outputs": []
    },
    {
      "cell_type": "code",
      "metadata": {
        "colab": {
          "base_uri": "https://localhost:8080/"
        },
        "id": "HAvpE-LGlKZ5",
        "outputId": "e2ebba1c-a415-48ab-dbc4-e8ba3799a0de"
      },
      "source": [
        "from sklearn.metrics import classification_report\n",
        "\n",
        "print(classification_report(y_train, y_predictraut ))"
      ],
      "id": "HAvpE-LGlKZ5",
      "execution_count": 101,
      "outputs": [
        {
          "output_type": "stream",
          "name": "stdout",
          "text": [
            "              precision    recall  f1-score   support\n",
            "\n",
            "           0       0.99      0.97      0.98       159\n",
            "           1       0.94      0.97      0.96       144\n",
            "           2       0.95      0.94      0.95       157\n",
            "           3       0.97      0.95      0.96       147\n",
            "           4       0.97      0.99      0.98       146\n",
            "\n",
            "    accuracy                           0.96       753\n",
            "   macro avg       0.96      0.96      0.96       753\n",
            "weighted avg       0.96      0.96      0.96       753\n",
            "\n"
          ]
        }
      ]
    },
    {
      "cell_type": "code",
      "metadata": {
        "id": "8Yi5K5-DlKlK"
      },
      "source": [
        "y_predictrau_probv = vgg_model_transferagmantation.predict(x_valid)\n",
        "y_predictrauv = y_predictrau_probv.argmax(axis=-1)"
      ],
      "id": "8Yi5K5-DlKlK",
      "execution_count": 102,
      "outputs": []
    },
    {
      "cell_type": "code",
      "metadata": {
        "colab": {
          "base_uri": "https://localhost:8080/"
        },
        "id": "5sn68YzaqdGz",
        "outputId": "b6efc9b0-b848-49ab-9f50-2678be5923b1"
      },
      "source": [
        "from sklearn.metrics import classification_report\n",
        "\n",
        "print(classification_report(y_valid, y_predictrauv ))"
      ],
      "id": "5sn68YzaqdGz",
      "execution_count": 103,
      "outputs": [
        {
          "output_type": "stream",
          "name": "stdout",
          "text": [
            "              precision    recall  f1-score   support\n",
            "\n",
            "           0       0.37      0.33      0.35        21\n",
            "           1       0.37      0.28      0.32        36\n",
            "           2       0.05      0.09      0.07        23\n",
            "           3       0.19      0.20      0.19        30\n",
            "           4       0.32      0.25      0.28        24\n",
            "\n",
            "    accuracy                           0.23       134\n",
            "   macro avg       0.26      0.23      0.24       134\n",
            "weighted avg       0.27      0.23      0.24       134\n",
            "\n"
          ]
        }
      ]
    },
    {
      "cell_type": "markdown",
      "metadata": {
        "id": "lMqPZHPlqjWi"
      },
      "source": [
        " classfication with data augmentation the model get .95 on the train and .23 on validation in the final epochs\n",
        "  and get .32 on the test data  but  regrization get .42 on the test data  "
      ],
      "id": "lMqPZHPlqjWi"
    },
    {
      "cell_type": "markdown",
      "metadata": {
        "id": "LRdtQcG7rX7g"
      },
      "source": [
        "#augmentation with regrization"
      ],
      "id": "LRdtQcG7rX7g"
    },
    {
      "cell_type": "code",
      "metadata": {
        "id": "e7lZFPJurXSZ"
      },
      "source": [
        "from tensorflow.keras.models import Model\n",
        "from keras.layers import BatchNormalization\n",
        "from keras.layers import Dropout\n",
        "for layer in vgg_model.layers:\n",
        "    layer.trainable = False\n",
        "\n",
        "# We will have to use the functional API    \n",
        "inputs = keras.Input(shape=(32, 32, 3))\n",
        "x = data_augmentation(inputs)\n",
        "# last layers output\n",
        "x = vgg_model.layers[6].output\n",
        "\n",
        "\n",
        "\n",
        "\n",
        "\n",
        "\n",
        "x= BatchNormalization()(x)\n",
        "\n",
        "# Flatten as before\n",
        "x= Conv2D(128,(3,3),activation='relu',padding='same')(x)\n",
        "\n",
        "\n",
        "x = MaxPooling2D((2,2),strides=(2,2))(x)\n",
        "x = Flatten()(x)\n",
        "x = Dense(256, activation='relu')(x)\n",
        "x = Dropout(0.25)(x)\n",
        "x = Dense(5, activation='softmax')(x)\n",
        "\n",
        "\n",
        "vgg_model_transferpatch2 = Model(inputs=vgg_model.input, outputs=x)"
      ],
      "id": "e7lZFPJurXSZ",
      "execution_count": 113,
      "outputs": []
    },
    {
      "cell_type": "code",
      "metadata": {
        "colab": {
          "base_uri": "https://localhost:8080/"
        },
        "id": "vXgpmLw3rv8y",
        "outputId": "76b5834e-30ad-4fdc-8149-48ee25d8c955"
      },
      "source": [
        "batchSize = 128\n",
        "nEpochs = 32\n",
        "\n",
        "    \n",
        "sgd = tensorflow.keras.optimizers.SGD(lr=0.0008)\n",
        "vgg_model_transferpatch2.compile(loss='categorical_crossentropy', \n",
        "                           optimizer=sgd, \n",
        "                           metrics=['accuracy'])\n",
        "\n",
        "\n",
        "historyn =vgg_model_transferpatch2.fit(x_train, y_train_k, batch_size=batchSize, epochs=nEpochs, verbose=1, \n",
        "                                 validation_data=(x_valid, y_valid_k))"
      ],
      "id": "vXgpmLw3rv8y",
      "execution_count": 114,
      "outputs": [
        {
          "output_type": "stream",
          "name": "stderr",
          "text": [
            "/usr/local/lib/python3.7/dist-packages/keras/optimizer_v2/optimizer_v2.py:356: UserWarning: The `lr` argument is deprecated, use `learning_rate` instead.\n",
            "  \"The `lr` argument is deprecated, use `learning_rate` instead.\")\n"
          ]
        },
        {
          "output_type": "stream",
          "name": "stdout",
          "text": [
            "Epoch 1/32\n",
            "6/6 [==============================] - 18s 3s/step - loss: 2.3062 - accuracy: 0.2125 - val_loss: 3.4483 - val_accuracy: 0.2239\n",
            "Epoch 2/32\n",
            "6/6 [==============================] - 17s 3s/step - loss: 1.9690 - accuracy: 0.2231 - val_loss: 2.9507 - val_accuracy: 0.3060\n",
            "Epoch 3/32\n",
            "6/6 [==============================] - 17s 3s/step - loss: 2.0169 - accuracy: 0.1979 - val_loss: 2.4977 - val_accuracy: 0.2239\n",
            "Epoch 4/32\n",
            "6/6 [==============================] - 17s 3s/step - loss: 1.8817 - accuracy: 0.2483 - val_loss: 2.2506 - val_accuracy: 0.1866\n",
            "Epoch 5/32\n",
            "6/6 [==============================] - 17s 3s/step - loss: 1.7663 - accuracy: 0.2776 - val_loss: 2.0953 - val_accuracy: 0.1940\n",
            "Epoch 6/32\n",
            "6/6 [==============================] - 17s 3s/step - loss: 1.7372 - accuracy: 0.2749 - val_loss: 2.0002 - val_accuracy: 0.2388\n",
            "Epoch 7/32\n",
            "6/6 [==============================] - 17s 3s/step - loss: 1.7177 - accuracy: 0.2749 - val_loss: 1.9847 - val_accuracy: 0.2388\n",
            "Epoch 8/32\n",
            "6/6 [==============================] - 17s 3s/step - loss: 1.6703 - accuracy: 0.2961 - val_loss: 1.8835 - val_accuracy: 0.2090\n",
            "Epoch 9/32\n",
            "6/6 [==============================] - 17s 3s/step - loss: 1.6425 - accuracy: 0.3041 - val_loss: 1.8467 - val_accuracy: 0.2687\n",
            "Epoch 10/32\n",
            "6/6 [==============================] - 17s 3s/step - loss: 1.5969 - accuracy: 0.3333 - val_loss: 1.7899 - val_accuracy: 0.2313\n",
            "Epoch 11/32\n",
            "6/6 [==============================] - 17s 3s/step - loss: 1.5363 - accuracy: 0.3347 - val_loss: 1.7559 - val_accuracy: 0.2537\n",
            "Epoch 12/32\n",
            "6/6 [==============================] - 17s 3s/step - loss: 1.5431 - accuracy: 0.3519 - val_loss: 1.7292 - val_accuracy: 0.2612\n",
            "Epoch 13/32\n",
            "6/6 [==============================] - 17s 3s/step - loss: 1.4718 - accuracy: 0.3904 - val_loss: 1.7334 - val_accuracy: 0.2313\n",
            "Epoch 14/32\n",
            "6/6 [==============================] - 17s 3s/step - loss: 1.4608 - accuracy: 0.3825 - val_loss: 1.7143 - val_accuracy: 0.2463\n",
            "Epoch 15/32\n",
            "6/6 [==============================] - 17s 3s/step - loss: 1.4343 - accuracy: 0.3865 - val_loss: 1.6819 - val_accuracy: 0.3060\n",
            "Epoch 16/32\n",
            "6/6 [==============================] - 17s 3s/step - loss: 1.4434 - accuracy: 0.3984 - val_loss: 1.6762 - val_accuracy: 0.2761\n",
            "Epoch 17/32\n",
            "6/6 [==============================] - 17s 3s/step - loss: 1.4090 - accuracy: 0.3944 - val_loss: 1.6514 - val_accuracy: 0.2985\n",
            "Epoch 18/32\n",
            "6/6 [==============================] - 17s 3s/step - loss: 1.3825 - accuracy: 0.4223 - val_loss: 1.6535 - val_accuracy: 0.2910\n",
            "Epoch 19/32\n",
            "6/6 [==============================] - 17s 3s/step - loss: 1.3710 - accuracy: 0.4343 - val_loss: 1.6498 - val_accuracy: 0.3060\n",
            "Epoch 20/32\n",
            "6/6 [==============================] - 17s 3s/step - loss: 1.3349 - accuracy: 0.4555 - val_loss: 1.6300 - val_accuracy: 0.3134\n",
            "Epoch 21/32\n",
            "6/6 [==============================] - 17s 3s/step - loss: 1.2922 - accuracy: 0.4807 - val_loss: 1.6074 - val_accuracy: 0.3060\n",
            "Epoch 22/32\n",
            "6/6 [==============================] - 17s 3s/step - loss: 1.2821 - accuracy: 0.4980 - val_loss: 1.5940 - val_accuracy: 0.3134\n",
            "Epoch 23/32\n",
            "6/6 [==============================] - 17s 3s/step - loss: 1.2692 - accuracy: 0.5046 - val_loss: 1.5887 - val_accuracy: 0.3284\n",
            "Epoch 24/32\n",
            "6/6 [==============================] - 17s 3s/step - loss: 1.2779 - accuracy: 0.4489 - val_loss: 1.5786 - val_accuracy: 0.3209\n",
            "Epoch 25/32\n",
            "6/6 [==============================] - 17s 3s/step - loss: 1.2812 - accuracy: 0.4794 - val_loss: 1.5662 - val_accuracy: 0.3433\n",
            "Epoch 26/32\n",
            "6/6 [==============================] - 17s 3s/step - loss: 1.2292 - accuracy: 0.5033 - val_loss: 1.5781 - val_accuracy: 0.3657\n",
            "Epoch 27/32\n",
            "6/6 [==============================] - 17s 3s/step - loss: 1.1814 - accuracy: 0.5458 - val_loss: 1.5724 - val_accuracy: 0.3358\n",
            "Epoch 28/32\n",
            "6/6 [==============================] - 17s 3s/step - loss: 1.1910 - accuracy: 0.5657 - val_loss: 1.5561 - val_accuracy: 0.3433\n",
            "Epoch 29/32\n",
            "6/6 [==============================] - 17s 3s/step - loss: 1.1898 - accuracy: 0.5352 - val_loss: 1.5442 - val_accuracy: 0.3433\n",
            "Epoch 30/32\n",
            "6/6 [==============================] - 17s 3s/step - loss: 1.1795 - accuracy: 0.5378 - val_loss: 1.5426 - val_accuracy: 0.3731\n",
            "Epoch 31/32\n",
            "6/6 [==============================] - 17s 3s/step - loss: 1.1620 - accuracy: 0.5511 - val_loss: 1.5398 - val_accuracy: 0.3657\n",
            "Epoch 32/32\n",
            "6/6 [==============================] - 17s 3s/step - loss: 1.1101 - accuracy: 0.6003 - val_loss: 1.5272 - val_accuracy: 0.3731\n"
          ]
        }
      ]
    },
    {
      "cell_type": "code",
      "metadata": {
        "colab": {
          "base_uri": "https://localhost:8080/",
          "height": 302
        },
        "id": "-Bi7GBRQrwFO",
        "outputId": "becaf117-73de-463c-c1d3-957c71802ccf"
      },
      "source": [
        "# dictionary keys seems to have changed in version 2\n",
        "k = ''\n",
        "if 'accuracy' in historyn.history :\n",
        "    k = 'accuracy'    \n",
        "\n",
        "if 'acc' in historyn.history :\n",
        "    k = 'acc'\n",
        "    \n",
        "if k != '' :    \n",
        "    plt.plot(historyn.history[k])\n",
        "    plt.plot(historyn.history['val_'+k])\n",
        "    plt.title('Model Accuracy')\n",
        "    plt.ylabel('Accuracy')\n",
        "    plt.xlabel('Epoch')\n",
        "    plt.legend(['train', 'valid'], loc='upper left')\n",
        "    plt.show()"
      ],
      "id": "-Bi7GBRQrwFO",
      "execution_count": 115,
      "outputs": [
        {
          "output_type": "display_data",
          "data": {
            "image/png": "[encoded data removed]",
            "text/plain": [
              "<Figure size 432x288 with 1 Axes>"
            ]
          },
          "metadata": {
            "needs_background": "light"
          }
        }
      ]
    },
    {
      "cell_type": "code",
      "metadata": {
        "colab": {
          "base_uri": "https://localhost:8080/",
          "height": 302
        },
        "id": "uZQPf2s3rwPX",
        "outputId": "77c86eb1-bdf7-4631-8eee-d93a583e9ea0"
      },
      "source": [
        "plt.plot(historyn.history['loss'])\n",
        "plt.plot(historyn.history['val_loss'])\n",
        "plt.title('Model loss')\n",
        "plt.ylabel('Loss')\n",
        "plt.xlabel('Epoch')\n",
        "plt.legend(['train', 'valid'], loc='upper left')\n",
        "plt.show()"
      ],
      "id": "uZQPf2s3rwPX",
      "execution_count": 116,
      "outputs": [
        {
          "output_type": "display_data",
          "data": {
            "image/png": "[encoded data removed]",
            "text/plain": [
              "<Figure size 432x288 with 1 Axes>"
            ]
          },
          "metadata": {
            "needs_background": "light"
          }
        }
      ]
    },
    {
      "cell_type": "code",
      "metadata": {
        "id": "16kgHYMhrw2o"
      },
      "source": [
        "y_predictrau2_prob = vgg_model_transferpatch2.predict(x_test)\n",
        "y_predictrau2= y_predictrau2_prob.argmax(axis=-1)"
      ],
      "id": "16kgHYMhrw2o",
      "execution_count": 117,
      "outputs": []
    },
    {
      "cell_type": "code",
      "metadata": {
        "colab": {
          "base_uri": "https://localhost:8080/"
        },
        "id": "mnjEqK85uEZ6",
        "outputId": "5786b8ec-8c70-48d8-ee39-f2cbe0170928"
      },
      "source": [
        "from sklearn.metrics import classification_report\n",
        "\n",
        "print(classification_report(y_test,y_predictrau2 ))"
      ],
      "id": "mnjEqK85uEZ6",
      "execution_count": 118,
      "outputs": [
        {
          "output_type": "stream",
          "name": "stdout",
          "text": [
            "              precision    recall  f1-score   support\n",
            "\n",
            "           0       0.50      0.50      0.50        20\n",
            "           1       0.18      0.15      0.16        20\n",
            "           2       0.36      0.40      0.38        20\n",
            "           3       0.25      0.15      0.19        20\n",
            "           4       0.34      0.50      0.41        20\n",
            "\n",
            "    accuracy                           0.34       100\n",
            "   macro avg       0.33      0.34      0.33       100\n",
            "weighted avg       0.33      0.34      0.33       100\n",
            "\n"
          ]
        }
      ]
    },
    {
      "cell_type": "code",
      "metadata": {
        "id": "RjTjjEy5uEhP"
      },
      "source": [
        "y_predictrau_probv2 =  vgg_model_transferpatch2.predict(x_valid)\n",
        "y_predictrauv2= y_predictrau_probv2.argmax(axis=-1)"
      ],
      "id": "RjTjjEy5uEhP",
      "execution_count": 119,
      "outputs": []
    },
    {
      "cell_type": "code",
      "metadata": {
        "colab": {
          "base_uri": "https://localhost:8080/"
        },
        "id": "TOEsl03Tv1Np",
        "outputId": "c79648ed-8116-40ed-aa27-480901515a2b"
      },
      "source": [
        "from sklearn.metrics import classification_report\n",
        "\n",
        "print(classification_report(y_valid,y_predictrauv2))"
      ],
      "id": "TOEsl03Tv1Np",
      "execution_count": 121,
      "outputs": [
        {
          "output_type": "stream",
          "name": "stdout",
          "text": [
            "              precision    recall  f1-score   support\n",
            "\n",
            "           0       0.50      0.57      0.53        21\n",
            "           1       0.52      0.33      0.41        36\n",
            "           2       0.27      0.35      0.30        23\n",
            "           3       0.30      0.27      0.28        30\n",
            "           4       0.33      0.42      0.37        24\n",
            "\n",
            "    accuracy                           0.37       134\n",
            "   macro avg       0.38      0.39      0.38       134\n",
            "weighted avg       0.39      0.37      0.37       134\n",
            "\n"
          ]
        }
      ]
    },
    {
      "cell_type": "markdown",
      "metadata": {
        "id": "01a85650"
      },
      "source": [
        "# 5.1 Discussion"
      ],
      "id": "01a85650"
    },
    {
      "cell_type": "markdown",
      "metadata": {
        "id": "RwAQxcSHXmfR"
      },
      "source": [
        "classfication problem the model get .56 accuracy on the train and .33 on the validation whih less overfit from the previous classfication above improve on test on test get .42 sannd f1score .42\n",
        "\n",
        "\n",
        " classfication with data augmentation the model get .95 on the train and .23 on validation in the final epochs\n",
        "  and get .32 on the test data  but  regrization get .42 on the test data \n",
        "\n",
        "\n",
        "\n",
        "\n",
        ">>The model give better result with regrization with less overfit\n",
        "\n",
        "\n",
        "\n",
        "\n",
        ">>The model give better performance with regrization with augmentation \n",
        "on validation data get .37 on validation   with f1 score .38 but on test .34  and f1 score .33\n"
      ],
      "id": "RwAQxcSHXmfR"
    },
    {
      "cell_type": "markdown",
      "metadata": {
        "id": "cwW_DVBjymgQ"
      },
      "source": [
        "#another solution with data augmentation with datagenerator and regrization"
      ],
      "id": "cwW_DVBjymgQ"
    },
    {
      "cell_type": "code",
      "metadata": {
        "id": "-5-6lXXjykrR"
      },
      "source": [
        "from keras.preprocessing.image import ImageDataGenerator\n",
        "\n",
        "datagen = ImageDataGenerator(\n",
        "        rotation_range=40,\n",
        "        width_shift_range=0.2,\n",
        "        height_shift_range=0.2,\n",
        "        shear_range=0.2,\n",
        "        zoom_range=0.2,\n",
        "        horizontal_flip=True,\n",
        "        fill_mode='nearest')\n",
        "datagen.fit(x_train)"
      ],
      "id": "-5-6lXXjykrR",
      "execution_count": 123,
      "outputs": []
    },
    {
      "cell_type": "code",
      "metadata": {
        "colab": {
          "base_uri": "https://localhost:8080/"
        },
        "id": "uC0gUOp3ykw2",
        "outputId": "e9816d8f-fc49-4b50-d037-179e6c802a5b"
      },
      "source": [
        "batchSize = 128\n",
        "nEpochs = 32\n",
        "\n",
        "    \n",
        "sgd = tensorflow.keras.optimizers.SGD(learning_rate=0.0008)\n",
        "vgg_model_transferpatch.compile(loss='categorical_crossentropy', \n",
        "                           optimizer=sgd, \n",
        "                           metrics=['accuracy'])\n",
        "\n",
        "\n",
        "historyau =  vgg_model_transferpatch.fit(datagen.flow(x_train, y_train_k), epochs=nEpochs, verbose=1, \n",
        "                                 validation_data=datagen.flow(x_valid, y_valid_k))"
      ],
      "id": "uC0gUOp3ykw2",
      "execution_count": 126,
      "outputs": [
        {
          "output_type": "stream",
          "name": "stdout",
          "text": [
            "Epoch 1/32\n",
            "24/24 [==============================] - 20s 793ms/step - loss: 1.6098 - accuracy: 0.3267 - val_loss: 1.6743 - val_accuracy: 0.2985\n",
            "Epoch 2/32\n",
            "24/24 [==============================] - 19s 783ms/step - loss: 1.5946 - accuracy: 0.3134 - val_loss: 1.5678 - val_accuracy: 0.2985\n",
            "Epoch 3/32\n",
            "24/24 [==============================] - 19s 779ms/step - loss: 1.5931 - accuracy: 0.3015 - val_loss: 1.5086 - val_accuracy: 0.4104\n",
            "Epoch 4/32\n",
            "24/24 [==============================] - 19s 775ms/step - loss: 1.6002 - accuracy: 0.3240 - val_loss: 1.4902 - val_accuracy: 0.3881\n",
            "Epoch 5/32\n",
            "24/24 [==============================] - 18s 769ms/step - loss: 1.5930 - accuracy: 0.3081 - val_loss: 1.5171 - val_accuracy: 0.3657\n",
            "Epoch 6/32\n",
            "24/24 [==============================] - 19s 774ms/step - loss: 1.5311 - accuracy: 0.3121 - val_loss: 1.5096 - val_accuracy: 0.2985\n",
            "Epoch 7/32\n",
            "24/24 [==============================] - 19s 777ms/step - loss: 1.5227 - accuracy: 0.3386 - val_loss: 1.4645 - val_accuracy: 0.3881\n",
            "Epoch 8/32\n",
            "24/24 [==============================] - 18s 772ms/step - loss: 1.5327 - accuracy: 0.3307 - val_loss: 1.4488 - val_accuracy: 0.3507\n",
            "Epoch 9/32\n",
            "24/24 [==============================] - 19s 775ms/step - loss: 1.5143 - accuracy: 0.3493 - val_loss: 1.4909 - val_accuracy: 0.3582\n",
            "Epoch 10/32\n",
            "24/24 [==============================] - 19s 774ms/step - loss: 1.4846 - accuracy: 0.3519 - val_loss: 1.4515 - val_accuracy: 0.3731\n",
            "Epoch 11/32\n",
            "24/24 [==============================] - 19s 778ms/step - loss: 1.4713 - accuracy: 0.3705 - val_loss: 1.4834 - val_accuracy: 0.3657\n",
            "Epoch 12/32\n",
            "24/24 [==============================] - 19s 779ms/step - loss: 1.4817 - accuracy: 0.3785 - val_loss: 1.4586 - val_accuracy: 0.3582\n",
            "Epoch 13/32\n",
            "24/24 [==============================] - 19s 779ms/step - loss: 1.4825 - accuracy: 0.3546 - val_loss: 1.4334 - val_accuracy: 0.3955\n",
            "Epoch 14/32\n",
            "24/24 [==============================] - 19s 777ms/step - loss: 1.4737 - accuracy: 0.3493 - val_loss: 1.4052 - val_accuracy: 0.4179\n",
            "Epoch 15/32\n",
            "24/24 [==============================] - 19s 776ms/step - loss: 1.4449 - accuracy: 0.3599 - val_loss: 1.3975 - val_accuracy: 0.4030\n",
            "Epoch 16/32\n",
            "24/24 [==============================] - 19s 788ms/step - loss: 1.4218 - accuracy: 0.3958 - val_loss: 1.4496 - val_accuracy: 0.3806\n",
            "Epoch 17/32\n",
            "24/24 [==============================] - 19s 775ms/step - loss: 1.4083 - accuracy: 0.3997 - val_loss: 1.4464 - val_accuracy: 0.3731\n",
            "Epoch 18/32\n",
            "24/24 [==============================] - 19s 783ms/step - loss: 1.4349 - accuracy: 0.3692 - val_loss: 1.3422 - val_accuracy: 0.4403\n",
            "Epoch 19/32\n",
            "24/24 [==============================] - 19s 778ms/step - loss: 1.4268 - accuracy: 0.3811 - val_loss: 1.3408 - val_accuracy: 0.4851\n",
            "Epoch 20/32\n",
            "24/24 [==============================] - 19s 775ms/step - loss: 1.4113 - accuracy: 0.3825 - val_loss: 1.4264 - val_accuracy: 0.4030\n",
            "Epoch 21/32\n",
            "24/24 [==============================] - 19s 775ms/step - loss: 1.3987 - accuracy: 0.3918 - val_loss: 1.4230 - val_accuracy: 0.4030\n",
            "Epoch 22/32\n",
            "24/24 [==============================] - 19s 774ms/step - loss: 1.3878 - accuracy: 0.3944 - val_loss: 1.3795 - val_accuracy: 0.4179\n",
            "Epoch 23/32\n",
            "24/24 [==============================] - 18s 771ms/step - loss: 1.3915 - accuracy: 0.4210 - val_loss: 1.3476 - val_accuracy: 0.3806\n",
            "Epoch 24/32\n",
            "24/24 [==============================] - 19s 773ms/step - loss: 1.4182 - accuracy: 0.3865 - val_loss: 1.3672 - val_accuracy: 0.4627\n",
            "Epoch 25/32\n",
            "24/24 [==============================] - 19s 777ms/step - loss: 1.3700 - accuracy: 0.4157 - val_loss: 1.3464 - val_accuracy: 0.4104\n",
            "Epoch 26/32\n",
            "24/24 [==============================] - 19s 777ms/step - loss: 1.3759 - accuracy: 0.4037 - val_loss: 1.3643 - val_accuracy: 0.4179\n",
            "Epoch 27/32\n",
            "24/24 [==============================] - 19s 777ms/step - loss: 1.3811 - accuracy: 0.4210 - val_loss: 1.3338 - val_accuracy: 0.3955\n",
            "Epoch 28/32\n",
            "24/24 [==============================] - 19s 778ms/step - loss: 1.4106 - accuracy: 0.4011 - val_loss: 1.3271 - val_accuracy: 0.4552\n",
            "Epoch 29/32\n",
            "24/24 [==============================] - 18s 772ms/step - loss: 1.3623 - accuracy: 0.4170 - val_loss: 1.4091 - val_accuracy: 0.4179\n",
            "Epoch 30/32\n",
            "24/24 [==============================] - 19s 778ms/step - loss: 1.3545 - accuracy: 0.4502 - val_loss: 1.3775 - val_accuracy: 0.4179\n",
            "Epoch 31/32\n",
            "24/24 [==============================] - 19s 780ms/step - loss: 1.3411 - accuracy: 0.4130 - val_loss: 1.3292 - val_accuracy: 0.4179\n",
            "Epoch 32/32\n",
            "24/24 [==============================] - 19s 778ms/step - loss: 1.3509 - accuracy: 0.4223 - val_loss: 1.3542 - val_accuracy: 0.4552\n"
          ]
        }
      ]
    },
    {
      "cell_type": "code",
      "metadata": {
        "colab": {
          "base_uri": "https://localhost:8080/",
          "height": 302
        },
        "id": "kehZ51Fiyk2w",
        "outputId": "29aedcd3-383a-4625-c7bb-a25eb698d0da"
      },
      "source": [
        "# dictionary keys seems to have changed in version 2\n",
        "k = ''\n",
        "if 'accuracy' in historyau.history :\n",
        "    k = 'accuracy'    \n",
        "\n",
        "if 'acc' in historyau.history :\n",
        "    k = 'acc'\n",
        "    \n",
        "if k != '' :    \n",
        "    plt.plot(historyau.history[k])\n",
        "    plt.plot(historyau.history['val_'+k])\n",
        "    plt.title('Model Accuracy')\n",
        "    plt.ylabel('Accuracy')\n",
        "    plt.xlabel('Epoch')\n",
        "    plt.legend(['train', 'valid'], loc='upper left')\n",
        "    plt.show()"
      ],
      "id": "kehZ51Fiyk2w",
      "execution_count": 127,
      "outputs": [
        {
          "output_type": "display_data",
          "data": {
            "image/png": "[encoded data removed]",
            "text/plain": [
              "<Figure size 432x288 with 1 Axes>"
            ]
          },
          "metadata": {
            "needs_background": "light"
          }
        }
      ]
    },
    {
      "cell_type": "code",
      "metadata": {
        "colab": {
          "base_uri": "https://localhost:8080/",
          "height": 302
        },
        "id": "hjrBjRqoyk5X",
        "outputId": "139c0b59-27d2-40ba-83b5-f64adcd23e91"
      },
      "source": [
        "plt.plot(historyau.history['loss'])\n",
        "plt.plot(historyau.history['val_loss'])\n",
        "plt.title('Model loss')\n",
        "plt.ylabel('Loss')\n",
        "plt.xlabel('Epoch')\n",
        "plt.legend(['train', 'valid'], loc='upper left')\n",
        "plt.show()"
      ],
      "id": "hjrBjRqoyk5X",
      "execution_count": 128,
      "outputs": [
        {
          "output_type": "display_data",
          "data": {
            "image/png": "[encoded data removed]",
            "text/plain": [
              "<Figure size 432x288 with 1 Axes>"
            ]
          },
          "metadata": {
            "needs_background": "light"
          }
        }
      ]
    },
    {
      "cell_type": "code",
      "metadata": {
        "id": "oRWWo5Ifyk9-"
      },
      "source": [
        "y_predict_prob =  vgg_model_transferpatch.predict(x_valid)\n",
        "y_predict = y_predict_prob.argmax(axis=-1)\n",
        "y_valid=y_valid.astype(int)"
      ],
      "id": "oRWWo5Ifyk9-",
      "execution_count": 129,
      "outputs": []
    },
    {
      "cell_type": "code",
      "metadata": {
        "colab": {
          "base_uri": "https://localhost:8080/"
        },
        "id": "llQ2e4HuylBm",
        "outputId": "b3b746b5-f43c-47b7-cdad-e52ff5bd068e"
      },
      "source": [
        "from sklearn.metrics import confusion_matrix\n",
        "\n",
        "conf_mx = confusion_matrix(y_valid, y_predict)\n",
        "print('Confusion matrix: \\n{0}'.format(conf_mx))"
      ],
      "id": "llQ2e4HuylBm",
      "execution_count": 130,
      "outputs": [
        {
          "output_type": "stream",
          "name": "stdout",
          "text": [
            "Confusion matrix: \n",
            "[[14  4  3  0  0]\n",
            " [ 4 10 13  7  2]\n",
            " [ 1  3  9  4  6]\n",
            " [ 1  1  6 13  9]\n",
            " [ 0  0  6  4 14]]\n"
          ]
        }
      ]
    },
    {
      "cell_type": "code",
      "metadata": {
        "colab": {
          "base_uri": "https://localhost:8080/"
        },
        "id": "9BlUa8-2ylJ3",
        "outputId": "e27e58ce-54b4-43dd-8ce7-a9ba2cbc9067"
      },
      "source": [
        "from sklearn.metrics import classification_report\n",
        "\n",
        "print(classification_report(y_valid, y_predict))"
      ],
      "id": "9BlUa8-2ylJ3",
      "execution_count": 131,
      "outputs": [
        {
          "output_type": "stream",
          "name": "stdout",
          "text": [
            "              precision    recall  f1-score   support\n",
            "\n",
            "           0       0.70      0.67      0.68        21\n",
            "           1       0.56      0.28      0.37        36\n",
            "           2       0.24      0.39      0.30        23\n",
            "           3       0.46      0.43      0.45        30\n",
            "           4       0.45      0.58      0.51        24\n",
            "\n",
            "    accuracy                           0.45       134\n",
            "   macro avg       0.48      0.47      0.46       134\n",
            "weighted avg       0.49      0.45      0.45       134\n",
            "\n"
          ]
        }
      ]
    },
    {
      "cell_type": "code",
      "metadata": {
        "id": "YNTJXkUX4WOo"
      },
      "source": [
        "y_predict_probt =  vgg_model_transferpatch.predict(x_test)\n",
        "y_predictt = y_predict_probt.argmax(axis=-1)\n",
        "y_test=y_test.astype(int)"
      ],
      "id": "YNTJXkUX4WOo",
      "execution_count": 132,
      "outputs": []
    },
    {
      "cell_type": "code",
      "metadata": {
        "colab": {
          "base_uri": "https://localhost:8080/"
        },
        "id": "6scwp8-R47zY",
        "outputId": "54f93e3e-e805-4598-8919-a1913110836f"
      },
      "source": [
        "from sklearn.metrics import confusion_matrix\n",
        "\n",
        "conf_mxt = confusion_matrix(y_test, y_predictt)\n",
        "print('Confusion matrix: \\n{0}'.format(conf_mxt))"
      ],
      "id": "6scwp8-R47zY",
      "execution_count": 133,
      "outputs": [
        {
          "output_type": "stream",
          "name": "stdout",
          "text": [
            "Confusion matrix: \n",
            "[[ 9  3  7  0  1]\n",
            " [ 3  5  9  2  1]\n",
            " [ 2  2  6  4  6]\n",
            " [ 0  0  3  4 13]\n",
            " [ 1  0  3  2 14]]\n"
          ]
        }
      ]
    },
    {
      "cell_type": "code",
      "metadata": {
        "colab": {
          "base_uri": "https://localhost:8080/"
        },
        "id": "lHdja57X479W",
        "outputId": "4fba476f-c0ff-41e4-e29d-d3aaef88ce32"
      },
      "source": [
        "from sklearn.metrics import classification_report\n",
        "\n",
        "print(classification_report(y_test, y_predictt))"
      ],
      "id": "lHdja57X479W",
      "execution_count": 134,
      "outputs": [
        {
          "output_type": "stream",
          "name": "stdout",
          "text": [
            "              precision    recall  f1-score   support\n",
            "\n",
            "           0       0.60      0.45      0.51        20\n",
            "           1       0.50      0.25      0.33        20\n",
            "           2       0.21      0.30      0.25        20\n",
            "           3       0.33      0.20      0.25        20\n",
            "           4       0.40      0.70      0.51        20\n",
            "\n",
            "    accuracy                           0.38       100\n",
            "   macro avg       0.41      0.38      0.37       100\n",
            "weighted avg       0.41      0.38      0.37       100\n",
            "\n"
          ]
        }
      ]
    },
    {
      "cell_type": "code",
      "metadata": {
        "id": "eYp5nNL56G1Y"
      },
      "source": [
        "y_predict_probtr =  vgg_model_transferpatch.predict(x_train)\n",
        "y_predicttr = y_predict_probtr.argmax(axis=-1)\n",
        "y_test=y_test.astype(int)"
      ],
      "id": "eYp5nNL56G1Y",
      "execution_count": 135,
      "outputs": []
    },
    {
      "cell_type": "code",
      "metadata": {
        "colab": {
          "base_uri": "https://localhost:8080/"
        },
        "id": "36ALUYU16G-5",
        "outputId": "c01a3734-0826-49a4-a791-c906e23e4da9"
      },
      "source": [
        "from sklearn.metrics import confusion_matrix\n",
        "\n",
        "conf_mxtr = confusion_matrix(y_train, y_predicttr)\n",
        "print('Confusion matrix: \\n{0}'.format(conf_mxtr))"
      ],
      "id": "36ALUYU16G-5",
      "execution_count": 136,
      "outputs": [
        {
          "output_type": "stream",
          "name": "stdout",
          "text": [
            "Confusion matrix: \n",
            "[[110  15  25   7   2]\n",
            " [ 10  73  27  20  14]\n",
            " [  3  15  92  19  28]\n",
            " [  2   5  17  84  39]\n",
            " [  1   3  10  12 120]]\n"
          ]
        }
      ]
    },
    {
      "cell_type": "code",
      "metadata": {
        "colab": {
          "base_uri": "https://localhost:8080/"
        },
        "id": "xK8D4pf56YJP",
        "outputId": "c4ee6ef8-ffee-459f-8905-ae4a65265514"
      },
      "source": [
        "from sklearn.metrics import classification_report\n",
        "\n",
        "print(classification_report(y_train, y_predicttr))"
      ],
      "id": "xK8D4pf56YJP",
      "execution_count": 137,
      "outputs": [
        {
          "output_type": "stream",
          "name": "stdout",
          "text": [
            "              precision    recall  f1-score   support\n",
            "\n",
            "           0       0.87      0.69      0.77       159\n",
            "           1       0.66      0.51      0.57       144\n",
            "           2       0.54      0.59      0.56       157\n",
            "           3       0.59      0.57      0.58       147\n",
            "           4       0.59      0.82      0.69       146\n",
            "\n",
            "    accuracy                           0.64       753\n",
            "   macro avg       0.65      0.64      0.63       753\n",
            "weighted avg       0.65      0.64      0.64       753\n",
            "\n"
          ]
        }
      ]
    },
    {
      "cell_type": "markdown",
      "metadata": {
        "id": "H4Wkqrvc6l6A"
      },
      "source": [
        "the model with data generator augmention give with regrization \n",
        ".64 on train data ,.38 on test data ,on validation .45  but still less than with regrization alone get .42"
      ],
      "id": "H4Wkqrvc6l6A"
    },
    {
      "cell_type": "markdown",
      "metadata": {
        "id": "5QJ7dNe04dGI"
      },
      "source": [
        "#Discussion"
      ],
      "id": "5QJ7dNe04dGI"
    },
    {
      "cell_type": "markdown",
      "metadata": {
        "id": "VhUgwJDS4uoX"
      },
      "source": [
        "classfication problem the model get .56 accuracy on the train and .33 on the validation whih less overfit from the previous classfication above improve on test on test get .42 sannd f1score .42\n",
        "\n",
        "\n",
        " classfication with data augmentation the model get .95 on the train and .23 on validation in the final epochs\n",
        "  and get .32 on the test data  but  regrization get .42 on the test data \n",
        "\n",
        "\n",
        "\n",
        "\n",
        ">>The model give better result with regrization with less overfit\n",
        "\n",
        "\n",
        "\n",
        "\n",
        ">>The model give better performance with regrization with augmentation \n",
        "on validation data get .37 on validation   with f1 score .38 but on test .34  and f1 score .33\n",
        "\n",
        "\n",
        ">>>>>>>>>>>>>>>>>>>>>>>>>>>>>>>>>>\n",
        "\n",
        "\n",
        "\n",
        "the model with data generator augmention give with regrization \n",
        ".64 on train data ,.38 on test data ,on validation .45  but still less than with regrization alone get .42"
      ],
      "id": "VhUgwJDS4uoX"
    }
  ]
}